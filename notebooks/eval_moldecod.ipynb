{
 "cells": [
  {
   "cell_type": "markdown",
   "id": "7f20e2ec-2859-498c-8ac8-7cc86f09bcb0",
   "metadata": {},
   "source": [
    "# Eval MolDecod\n",
    "\n",
    "In this notebook, we evaluate the model on molecular metrics for different temperature levels.\n",
    "\n",
    "Results on 10,000 generated molecules:\n",
    "\n",
    "| Temperature | Validity | Uniqueness | Diversity | Novelty | KL Divergence | Fragment Similarity | Scaffold Diversity |\n",
    "|-------------|----------|------------|-----------|---------|---------------|---------------------|--------------------|\n",
    "| 0.1         | 1.00     | 0.04       | 0.76      | 0.9455  | 6.4742        | 0.0545              | 0.0148             |\n",
    "| 0.25        | 1.00     | 0.49       | 0.81      | 0.8347  | 4.3664        | 0.1653              | 0.1398             |\n",
    "| 0.5         | 0.98     | 0.95       | 0.85      | 0.8768  | 5.7033        | 0.1237              | 0.4556             |\n",
    "| 0.7         | 0.96     | 0.95       | 0.87      | 0.9240  | 5.6936        | 0.0778              | 0.6540             |\n",
    "| 0.9         | 0.88     | 0.88       | 0.88      | 0.9562  | 5.3179        | 0.0502              | 0.7524             |\n",
    "\n"
   ]
  },
  {
   "cell_type": "markdown",
   "id": "146f204f-060f-4611-8927-1eaee72ed204",
   "metadata": {},
   "source": [
    "## Setup"
   ]
  },
  {
   "cell_type": "code",
   "execution_count": null,
   "id": "7d80311e-a39c-477e-bafe-68c26448d1f0",
   "metadata": {
    "execution": {
     "iopub.execute_input": "2024-08-08T22:21:19.972551Z",
     "iopub.status.busy": "2024-08-08T22:21:19.971884Z",
     "iopub.status.idle": "2024-08-08T22:21:50.575573Z",
     "shell.execute_reply": "2024-08-08T22:21:50.574943Z",
     "shell.execute_reply.started": "2024-08-08T22:21:19.972531Z"
    }
   },
   "outputs": [],
   "source": [
    "# pip install torch scikit-learn PyTDC rdkit-pypi sentencepiece"
   ]
  },
  {
   "cell_type": "code",
   "execution_count": 2,
   "id": "73fe0120-dd08-41e5-ad89-710bbf95201c",
   "metadata": {
    "execution": {
     "iopub.execute_input": "2024-08-08T22:21:50.578085Z",
     "iopub.status.busy": "2024-08-08T22:21:50.577907Z",
     "iopub.status.idle": "2024-08-08T22:21:54.202162Z",
     "shell.execute_reply": "2024-08-08T22:21:54.201558Z",
     "shell.execute_reply.started": "2024-08-08T22:21:50.578069Z"
    }
   },
   "outputs": [
    {
     "name": "stdout",
     "output_type": "stream",
     "text": [
      "CUDA is available.\n",
      "Number of GPUs available: 1\n",
      "Device 1: NVIDIA A100 80GB PCIe\n",
      "  - Total Memory: 79.32 GB\n",
      "  - Multiprocessors: 108\n",
      "  - Compute Capability: 8.0\n",
      "Using device: cuda\n"
     ]
    }
   ],
   "source": [
    "import math\n",
    "import pandas as pd\n",
    "import numpy as np\n",
    "import torch\n",
    "import torch.nn as nn\n",
    "import torch.optim as optim\n",
    "from torch.utils.data import Dataset, DataLoader\n",
    "from sklearn.model_selection import train_test_split\n",
    "from rdkit import Chem\n",
    "import sentencepiece as spm\n",
    "\n",
    "# Check if GPU is available\n",
    "cuda_available = torch.cuda.is_available()\n",
    "\n",
    "if cuda_available:\n",
    "    print(\"CUDA is available.\")\n",
    "    print(f\"Number of GPUs available: {torch.cuda.device_count()}\")\n",
    "\n",
    "    for i in range(torch.cuda.device_count()):\n",
    "        print(f\"Device {i+1}: {torch.cuda.get_device_name(i)}\")\n",
    "        print(f\"  - Total Memory: {torch.cuda.get_device_properties(i).total_memory / (1024 ** 3):.2f} GB\")\n",
    "        print(f\"  - Multiprocessors: {torch.cuda.get_device_properties(i).multi_processor_count}\")\n",
    "        print(f\"  - Compute Capability: {torch.cuda.get_device_properties(i).major}.{torch.cuda.get_device_properties(i).minor}\")\n",
    "else:\n",
    "    print(\"CUDA is not available.\")\n",
    "\n",
    "# Use GPU if available, CPU if not\n",
    "device = torch.device(\"cuda\" if torch.cuda.is_available() else \"cpu\")\n",
    "print(f\"Using device: {device}\")\n",
    "\n",
    "# Pre-define seed for reproducibility\n",
    "seed = 42\n",
    "torch.manual_seed(seed)\n",
    "if cuda_available:\n",
    "    torch.cuda.manual_seed(seed)\n",
    "    torch.cuda.manual_seed_all(seed)  # if you are using multi-GPU.\n",
    "    torch.backends.cudnn.deterministic = True\n",
    "    torch.backends.cudnn.benchmark = False"
   ]
  },
  {
   "cell_type": "markdown",
   "id": "886d6330-6156-48d5-ac0e-9eb65ad81e60",
   "metadata": {},
   "source": [
    "## Import and split data"
   ]
  },
  {
   "cell_type": "code",
   "execution_count": null,
   "id": "19174fba-577e-48d4-a84d-e9c8b9e17dd8",
   "metadata": {
    "execution": {
     "iopub.execute_input": "2024-08-08T22:21:54.203709Z",
     "iopub.status.busy": "2024-08-08T22:21:54.203438Z"
    }
   },
   "outputs": [
    {
     "name": "stderr",
     "output_type": "stream",
     "text": [
      "Found local copy...\n",
      "Loading...\n",
      "Done!\n",
      "Found local copy...\n",
      "Loading...\n",
      "Done!\n"
     ]
    },
    {
     "name": "stdout",
     "output_type": "stream",
     "text": [
      "                                   smiles\n",
      "0           COCCOCC1NCCc2cc3ccc(O)cc3cc21\n",
      "1     Cc1ccc(NC(=O)N2CCCC2C(O)C(F)(F)F)s1\n",
      "2  COc1ccc(C(C)NC(=O)CCn2cc(C)cn2)c(OC)c1\n",
      "3   COc1ccc(Cl)cc1-c1ccc(C#N)c(=O)n1C(C)C\n",
      "4         O=C(c1cc(-n2cccn2)ccn1)N1CCOCC1\n",
      "Train set shape: (2714758, 1)\n",
      "Validation set shape: (581853, 1)\n",
      "Test set shape: (581756, 1)\n"
     ]
    }
   ],
   "source": [
    "from tdc.generation import MolGen\n",
    "\n",
    "# Get MolGen datasets, and split 70/15/15 (train/validation/test)\n",
    "def load_and_prepare_data(source_name, test_size=0.15, val_size=0.1765, random_state=42):\n",
    "    # Initialize and get data splits\n",
    "    data_source = MolGen(name=source_name)\n",
    "    split_data = data_source.get_split()\n",
    "\n",
    "    # Combine train, valid, and test into a single DataFrame and drop NaNs\n",
    "    df = pd.concat([split_data['train'], split_data['valid'], split_data['test']], ignore_index=True)\n",
    "    df.dropna(subset=['smiles'], inplace=True)\n",
    "\n",
    "    # Train-validation-test split\n",
    "    train_val, test = train_test_split(df, test_size=test_size, random_state=random_state)\n",
    "    train, valid = train_test_split(train_val, test_size=val_size, random_state=random_state)\n",
    "    \n",
    "    return train, valid, test\n",
    "\n",
    "# Load and prepare datasets\n",
    "train_moses, valid_moses, test_moses = load_and_prepare_data('MOSES')\n",
    "train_chembl, valid_chembl, test_chembl = load_and_prepare_data('ChEMBL')\n",
    "\n",
    "# Concatenate the two sources\n",
    "train_df = pd.concat([train_moses, train_chembl], ignore_index=True)\n",
    "valid_df = pd.concat([valid_moses, valid_chembl], ignore_index=True)\n",
    "test_df = pd.concat([test_moses, test_chembl], ignore_index=True)\n",
    "\n",
    "# Display the first few entries and shapes of datasets\n",
    "print(train_df.head())\n",
    "print(f\"Train set shape: {train_df.shape}\")\n",
    "print(f\"Validation set shape: {valid_df.shape}\")\n",
    "print(f\"Test set shape: {test_df.shape}\")"
   ]
  },
  {
   "cell_type": "markdown",
   "id": "fb1b0aff-6374-4530-9da1-423820053741",
   "metadata": {},
   "source": [
    "## Tokenizer and data loaders"
   ]
  },
  {
   "cell_type": "code",
   "execution_count": null,
   "id": "babb655c-87ee-43d2-a582-5df9b4f93f95",
   "metadata": {
    "execution": {
     "iopub.execute_input": "2024-08-08T22:22:02.788197Z",
     "iopub.status.busy": "2024-08-08T22:22:02.788015Z",
     "iopub.status.idle": "2024-08-08T22:22:02.791970Z",
     "shell.execute_reply": "2024-08-08T22:22:02.791411Z",
     "shell.execute_reply.started": "2024-08-08T22:22:02.788179Z"
    }
   },
   "outputs": [],
   "source": [
    "# Special tokens\n",
    "SOS_TOKEN = '<SOS>'  # start of sequence\n",
    "EOS_TOKEN = '<EOS>'  # end of sequence\n",
    "PAD_TOKEN = '<PAD>'  # padding"
   ]
  },
  {
   "cell_type": "code",
   "execution_count": 5,
   "id": "f9f5d6f1-a927-438f-a008-c8100b26046e",
   "metadata": {
    "execution": {
     "iopub.execute_input": "2024-08-08T22:22:02.792733Z",
     "iopub.status.busy": "2024-08-08T22:22:02.792579Z",
     "iopub.status.idle": "2024-08-08T22:35:32.426275Z",
     "shell.execute_reply": "2024-08-08T22:35:32.425705Z",
     "shell.execute_reply.started": "2024-08-08T22:22:02.792717Z"
    }
   },
   "outputs": [
    {
     "name": "stderr",
     "output_type": "stream",
     "text": [
      "[22:29:17] WARNING: not removing hydrogen atom without neighbors\n",
      "[22:29:28] WARNING: not removing hydrogen atom without neighbors\n",
      "[22:29:36] WARNING: not removing hydrogen atom without neighbors\n",
      "[22:30:30] WARNING: not removing hydrogen atom without neighbors\n",
      "[22:30:30] WARNING: not removing hydrogen atom without neighbors\n",
      "[22:30:30] WARNING: not removing hydrogen atom without neighbors\n",
      "[22:31:24] WARNING: not removing hydrogen atom without neighbors\n"
     ]
    }
   ],
   "source": [
    "# Load SentencePiece model\n",
    "sp = spm.SentencePieceProcessor()\n",
    "sp.load('smiles.model')\n",
    "\n",
    "# Step 3: Update Dataset Class\n",
    "class SMILESDataset(Dataset):\n",
    "    def __init__(self, dataframe, sp_model):\n",
    "        self.smiles = dataframe['smiles'].tolist()\n",
    "        self.sp = sp_model\n",
    "\n",
    "        # Process SMILES using SentencePiece\n",
    "        self.processed_smiles = []\n",
    "        for smile in self.smiles:\n",
    "            mol = Chem.MolFromSmiles(smile)\n",
    "            if mol is not None:  # Ensure valid SMILES\n",
    "                canonical_smile = Chem.MolToSmiles(mol, canonical=True)\n",
    "                self.processed_smiles.append(canonical_smile)\n",
    "            else:\n",
    "                print(f\"Invalid SMILES string: {smile}\")\n",
    "\n",
    "    def __len__(self):\n",
    "        return len(self.processed_smiles)\n",
    "\n",
    "    def __getitem__(self, idx):\n",
    "        smile = self.processed_smiles[idx]\n",
    "        # Tokenize with SentencePiece\n",
    "        tokens = [self.sp.piece_to_id(SOS_TOKEN)] + self.sp.encode(smile) + [self.sp.piece_to_id(EOS_TOKEN)]\n",
    "        return torch.tensor(tokens, dtype=torch.long)\n",
    "\n",
    "# Custom collate function for padding sequences\n",
    "def collate_fn(batch):\n",
    "    batch = [item for item in batch]\n",
    "    batch = torch.nn.utils.rnn.pad_sequence(batch, batch_first=True, padding_value=sp.piece_to_id(PAD_TOKEN))\n",
    "    return batch\n",
    "\n",
    "# Dataset setup\n",
    "train_dataset = SMILESDataset(train_df, sp)\n",
    "valid_dataset = SMILESDataset(valid_df, sp)\n",
    "test_dataset = SMILESDataset(test_df, sp)"
   ]
  },
  {
   "cell_type": "markdown",
   "id": "22259afb-9dd2-4544-bbb2-c1a47e8eb99d",
   "metadata": {},
   "source": [
    "## Define model architecture"
   ]
  },
  {
   "cell_type": "code",
   "execution_count": 6,
   "id": "57518a1d-1b84-4acb-b191-00211af887fe",
   "metadata": {
    "execution": {
     "iopub.execute_input": "2024-08-08T22:35:32.427561Z",
     "iopub.status.busy": "2024-08-08T22:35:32.427063Z",
     "iopub.status.idle": "2024-08-08T22:35:32.623448Z",
     "shell.execute_reply": "2024-08-08T22:35:32.622906Z",
     "shell.execute_reply.started": "2024-08-08T22:35:32.427543Z"
    }
   },
   "outputs": [],
   "source": [
    "class RotaryPositionalEncoding(nn.Module):\n",
    "    def __init__(self, d_model, dropout=0.1, max_len=5000):\n",
    "        super(RotaryPositionalEncoding, self).__init__()\n",
    "        self.d_model = d_model\n",
    "        self.dropout = nn.Dropout(p=dropout)\n",
    "        \n",
    "        position = torch.arange(0, max_len).unsqueeze(1)\n",
    "        div_term = torch.exp(torch.arange(0, d_model, 2) * -(math.log(10000.0) / d_model))\n",
    "        self.register_buffer('sin_pos', torch.sin(position * div_term))\n",
    "        self.register_buffer('cos_pos', torch.cos(position * div_term))\n",
    "\n",
    "    def forward(self, x):\n",
    "        seq_len = x.size(1)\n",
    "        x1 = x[..., ::2]\n",
    "        x2 = x[..., 1::2]\n",
    "        x = torch.cat([\n",
    "            x1 * self.cos_pos[:seq_len] - x2 * self.sin_pos[:seq_len],\n",
    "            x1 * self.sin_pos[:seq_len] + x2 * self.cos_pos[:seq_len]\n",
    "        ], dim=-1)\n",
    "        return self.dropout(x)\n",
    "\n",
    "class DecoderOnlyTransformer(nn.Module):\n",
    "    def __init__(self, vocab_size, d_model, nhead, num_layers, dropout=0.1):\n",
    "        super(DecoderOnlyTransformer, self).__init__()\n",
    "        self.d_model = d_model\n",
    "        self.embedding = nn.Embedding(vocab_size, d_model)\n",
    "        self.pos_encoder = RotaryPositionalEncoding(d_model)\n",
    "        encoder_layer = nn.TransformerEncoderLayer(d_model, nhead, dim_feedforward=4*d_model, dropout=dropout, activation='gelu', batch_first=True, norm_first=True)\n",
    "        self.transformer_encoder = nn.TransformerEncoder(encoder_layer, num_layers)\n",
    "        self.fc_out = nn.Linear(d_model, vocab_size)\n",
    "        self.dropout = nn.Dropout(p=dropout)\n",
    "        \n",
    "    def forward(self, src, src_mask=None):\n",
    "        src = self.embedding(src) * math.sqrt(self.d_model)\n",
    "        src = self.pos_encoder(src)\n",
    "        output = self.transformer_encoder(src, mask=src_mask)\n",
    "        output = self.fc_out(output)\n",
    "        return self.dropout(output)"
   ]
  },
  {
   "cell_type": "code",
   "execution_count": 7,
   "id": "2186a203-acea-4489-9586-af2a568ae7f2",
   "metadata": {
    "execution": {
     "iopub.execute_input": "2024-08-08T22:35:32.624136Z",
     "iopub.status.busy": "2024-08-08T22:35:32.623979Z",
     "iopub.status.idle": "2024-08-08T22:35:34.489818Z",
     "shell.execute_reply": "2024-08-08T22:35:34.489267Z",
     "shell.execute_reply.started": "2024-08-08T22:35:32.624122Z"
    }
   },
   "outputs": [],
   "source": [
    "# Model setup\n",
    "vocab_size = sp.get_piece_size()  # Use SentencePiece to get the vocabulary size\n",
    "d_model = 256\n",
    "nhead = 4\n",
    "num_encoder_layers = 4\n",
    "dropout = 0.25\n",
    "\n",
    "model = DecoderOnlyTransformer(vocab_size, d_model, nhead, num_layers=num_encoder_layers, dropout=dropout)\n",
    "model = model.to(device)\n",
    "criterion = nn.CrossEntropyLoss().to(device)\n",
    "optimizer = optim.AdamW(model.parameters(), lr=1e-4, weight_decay=0.01)"
   ]
  },
  {
   "cell_type": "markdown",
   "id": "71275114-2b27-48f4-854b-2eb9a8b7b478",
   "metadata": {},
   "source": [
    "## Load and evaluate model"
   ]
  },
  {
   "cell_type": "markdown",
   "id": "fb7860d5-1cae-412e-8186-17e2c985537f",
   "metadata": {},
   "source": [
    "### Load model and define generation functions"
   ]
  },
  {
   "cell_type": "code",
   "execution_count": 8,
   "id": "b2d410c7-905f-49bb-b2c9-6a0fc7fb1799",
   "metadata": {
    "execution": {
     "iopub.execute_input": "2024-08-08T22:35:34.490770Z",
     "iopub.status.busy": "2024-08-08T22:35:34.490611Z",
     "iopub.status.idle": "2024-08-08T22:35:36.150812Z",
     "shell.execute_reply": "2024-08-08T22:35:36.150198Z",
     "shell.execute_reply.started": "2024-08-08T22:35:34.490755Z"
    }
   },
   "outputs": [
    {
     "name": "stdout",
     "output_type": "stream",
     "text": [
      "Generated molecule: COc1cc2cc(OC)c(OC)cc2cc1C(c1ccccc1)c1ccccc1\n"
     ]
    }
   ],
   "source": [
    "# Load the best model checkpoint\n",
    "checkpoint = torch.load('best_model_mid_save.pth')\n",
    "model.load_state_dict(checkpoint['model_state_dict'])\n",
    "model = model.to(device)\n",
    "optimizer.load_state_dict(checkpoint['optimizer_state_dict'])\n",
    "\n",
    "def create_mask(size):\n",
    "    mask = torch.triu(torch.ones(size, size) * float('-inf'), diagonal=1)\n",
    "    return mask\n",
    "\n",
    "def generate_molecule(model, start_seq, sp_model, max_length=150, temperature=0.7):\n",
    "    model.eval()\n",
    "    with torch.no_grad():\n",
    "        current_seq = start_seq.to(device).unsqueeze(0)  # Add batch dimension\n",
    "        for _ in range(max_length):\n",
    "            src_mask = create_mask(current_seq.size(1)).to(device)\n",
    "            output = model(current_seq, src_mask)\n",
    "            logits = output[0, -1, :] / temperature  # Select last time step\n",
    "            next_token_idx = torch.multinomial(torch.softmax(logits, dim=-1), 1).item()\n",
    "            \n",
    "            if next_token_idx == sp_model.piece_to_id('<EOS>'):\n",
    "                break\n",
    "\n",
    "            next_token_tensor = torch.tensor([[next_token_idx]], device=device)\n",
    "            current_seq = torch.cat([current_seq, next_token_tensor], dim=1)\n",
    "    \n",
    "    # Decode using SentencePiece\n",
    "    generated_sequence = sp_model.decode_ids(current_seq[0].cpu().tolist())\n",
    "    return generated_sequence.replace('<SOS>', '', 1)\n",
    "\n",
    "# Example: Generate a molecule starting with a carbon atom\n",
    "start_seq = torch.tensor([sp.piece_to_id('<SOS>'), sp.piece_to_id('C')], device=device)  # Start with <SOS> and a carbon atom\n",
    "generated_molecule = generate_molecule(model, start_seq, sp)\n",
    "print(\"Generated molecule:\", generated_molecule)"
   ]
  },
  {
   "cell_type": "markdown",
   "id": "85213471-9af6-411b-b43f-83677b1951f8",
   "metadata": {},
   "source": [
    "### Define evaluation functions"
   ]
  },
  {
   "cell_type": "code",
   "execution_count": 14,
   "id": "d4a036ee-0cff-4147-8827-7f6415038263",
   "metadata": {
    "execution": {
     "iopub.execute_input": "2024-08-08T22:55:57.804229Z",
     "iopub.status.busy": "2024-08-08T22:55:57.803515Z",
     "iopub.status.idle": "2024-08-08T22:55:57.811003Z",
     "shell.execute_reply": "2024-08-08T22:55:57.810455Z",
     "shell.execute_reply.started": "2024-08-08T22:55:57.804208Z"
    }
   },
   "outputs": [],
   "source": [
    "from tdc import Evaluator\n",
    "from rdkit.Chem import AllChem, DataStructs, Descriptors\n",
    "from rdkit.Chem.Scaffolds import MurckoScaffold\n",
    "from scipy.stats import entropy\n",
    "from collections import Counter\n",
    "\n",
    "# Validity\n",
    "validity_evaluator = Evaluator(name='Validity')\n",
    "\n",
    "# Uniqueness\n",
    "uniqueness_evaluator = Evaluator(name='Uniqueness')\n",
    "\n",
    "# Diversity\n",
    "diversity_evaluator = Evaluator(name='Diversity')\n",
    "\n",
    "# Convert SMILES to RDKit molecules\n",
    "def smiles_to_mol(smiles_list):\n",
    "    return [Chem.MolFromSmiles(smiles) for smiles in smiles_list if Chem.MolFromSmiles(smiles)]\n",
    "\n",
    "# Novelty\n",
    "def calculate_novelty(generated_mols, train_mols):\n",
    "    train_smiles_set = set(Chem.MolToSmiles(mol) for mol in train_mols)\n",
    "    novel_count = sum(1 for mol in generated_mols if Chem.MolToSmiles(mol) not in train_smiles_set)\n",
    "    return novel_count / len(generated_mols)\n",
    "\n",
    "# KL Divergence (using molecular weight as an example property)\n",
    "def calculate_kl_divergence(generated_mols, train_mols):\n",
    "    def get_mol_weights(mols):\n",
    "        return [Chem.Descriptors.ExactMolWt(mol) for mol in mols]\n",
    "    \n",
    "    gen_weights = get_mol_weights(generated_mols)\n",
    "    train_weights = get_mol_weights(train_mols)\n",
    "    \n",
    "    # Create histograms\n",
    "    hist_gen, _ = np.histogram(gen_weights, bins=50, density=True)\n",
    "    hist_train, _ = np.histogram(train_weights, bins=50, density=True)\n",
    "    \n",
    "    # Add small epsilon to avoid division by zero\n",
    "    hist_gen = hist_gen + 1e-10\n",
    "    hist_train = hist_train + 1e-10\n",
    "    \n",
    "    return entropy(hist_gen, hist_train)\n",
    "\n",
    "# Fragment Similarity\n",
    "def calculate_fragment_similarity(generated_mols, train_mols):\n",
    "    def get_fragments(mol):\n",
    "        return set(Chem.MolToSmiles(frag) for frag in Chem.GetMolFrags(mol, asMols=True))\n",
    "    \n",
    "    train_fragments = set.union(*[get_fragments(mol) for mol in train_mols])\n",
    "    \n",
    "    similarities = []\n",
    "    for mol in generated_mols:\n",
    "        gen_fragments = get_fragments(mol)\n",
    "        if gen_fragments:\n",
    "            similarity = len(gen_fragments.intersection(train_fragments)) / len(gen_fragments)\n",
    "            similarities.append(similarity)\n",
    "    \n",
    "    return np.mean(similarities)\n",
    "\n",
    "# Scaffold Diversity\n",
    "def calculate_scaffold_diversity(mols):\n",
    "    scaffolds = [Chem.MolToSmiles(MurckoScaffold.GetScaffoldForMol(mol)) for mol in mols]\n",
    "    scaffold_counts = Counter(scaffolds)\n",
    "    return len(scaffold_counts) / len(mols)\n",
    "\n",
    "# Get the training and test set SMILES\n",
    "train_smiles = train_dataset.processed_smiles\n",
    "test_smiles = test_dataset.processed_smiles\n",
    "\n",
    "train_mols = smiles_to_mol(train_smiles)"
   ]
  },
  {
   "cell_type": "markdown",
   "id": "b6077db9-5583-446f-907d-1cdbe2ebba93",
   "metadata": {},
   "source": [
    "### Temperature = 0.1"
   ]
  },
  {
   "cell_type": "code",
   "execution_count": 9,
   "id": "c9be39c3-13f1-4c47-805d-476225d83703",
   "metadata": {
    "execution": {
     "iopub.execute_input": "2024-08-08T19:51:23.415421Z",
     "iopub.status.busy": "2024-08-08T19:51:23.415232Z",
     "iopub.status.idle": "2024-08-08T20:08:24.828153Z",
     "shell.execute_reply": "2024-08-08T20:08:24.827728Z",
     "shell.execute_reply.started": "2024-08-08T19:51:23.415404Z"
    }
   },
   "outputs": [
    {
     "name": "stdout",
     "output_type": "stream",
     "text": [
      "Generated molecule 1000: C(C)(C)NC(=O)C1CCN(C(=O)C2CCCO2)CC1\n",
      "Generated molecule 2000: C(C)C(NC(=O)c1ccc(C)c(C)c1)C(=O)N1CCC(C)CC1\n",
      "Generated molecule 3000: C(C)C(NC(=O)C1CC1)c1ccc(OC)cc1\n",
      "Generated molecule 4000: C(C)C(C)NC(=O)C1CCN(C(=O)c2ccc(F)cc2)CC1\n",
      "Generated molecule 5000: C(C)C(=O)Nc1ccc(C(=O)Nc2ccc(C)c(C)c2)cc1\n",
      "Generated molecule 6000: C(C)C(=O)Nc1ccc(NC(=O)C2CC2)cc1\n",
      "Generated molecule 7000: C(C)C(NC(=O)c1ccc(C)c(C)c1)C(=O)N(C)C\n",
      "Generated molecule 8000: C(C)(C)NC(=O)C1CCN(C(=O)c2ccc(C)c(F)c2)CC1\n",
      "Generated molecule 9000: C(C)C(NC(=O)c1ccc(C)c(C)c1)C(=O)N(C)C\n",
      "Generated molecule 10000: C(C)C(NC(=O)c1ccc(C)c(C)c1)C(=O)N1CCCC1\n"
     ]
    }
   ],
   "source": [
    "generated_smiles = []\n",
    "for i in range(10000):\n",
    "    start_seq = torch.tensor([sp.piece_to_id('<SOS>'), sp.piece_to_id('C')], device=device)  # Start with <SOS> and a carbon atom\n",
    "    generated_molecule = generate_molecule(model, start_seq, sp, max_length=150, temperature=0.1)  # Pass the SentencePiece model\n",
    "    generated_molecule = generated_molecule  # Remove start of sequence token\n",
    "    generated_smiles.append(generated_molecule)\n",
    "    \n",
    "    # Print every 1000th molecule\n",
    "    if (i + 1) % 1000 == 0:\n",
    "        print(f\"Generated molecule {i + 1}: {generated_molecule}\")"
   ]
  },
  {
   "cell_type": "code",
   "execution_count": 10,
   "id": "182ac978-bb99-4df2-aa5b-76a761e3ad6e",
   "metadata": {
    "execution": {
     "iopub.execute_input": "2024-08-08T20:08:24.830195Z",
     "iopub.status.busy": "2024-08-08T20:08:24.829863Z",
     "iopub.status.idle": "2024-08-08T20:08:29.511955Z",
     "shell.execute_reply": "2024-08-08T20:08:29.511515Z",
     "shell.execute_reply.started": "2024-08-08T20:08:24.830174Z"
    }
   },
   "outputs": [
    {
     "name": "stdout",
     "output_type": "stream",
     "text": [
      "Validity: 1.00\n",
      "Uniqueness: 0.04\n",
      "Diversity: 0.76\n"
     ]
    }
   ],
   "source": [
    "# Validity\n",
    "validity_score = validity_evaluator(generated_smiles)\n",
    "print(f\"Validity: {validity_score:.2f}\")\n",
    "\n",
    "# Uniqueness\n",
    "uniqueness_score = uniqueness_evaluator(generated_smiles)\n",
    "print(f\"Uniqueness: {uniqueness_score:.2f}\")\n",
    "\n",
    "# Diversity\n",
    "diversity_score = diversity_evaluator(generated_smiles)\n",
    "print(f\"Diversity: {diversity_score:.2f}\")"
   ]
  },
  {
   "cell_type": "code",
   "execution_count": 11,
   "id": "8bf25c53-0d12-4517-9395-8f910cf08198",
   "metadata": {
    "execution": {
     "iopub.execute_input": "2024-08-08T20:08:29.513001Z",
     "iopub.status.busy": "2024-08-08T20:08:29.512720Z",
     "iopub.status.idle": "2024-08-08T20:33:26.987028Z",
     "shell.execute_reply": "2024-08-08T20:33:26.986367Z",
     "shell.execute_reply.started": "2024-08-08T20:08:29.512983Z"
    }
   },
   "outputs": [
    {
     "name": "stderr",
     "output_type": "stream",
     "text": [
      "[20:17:57] WARNING: not removing hydrogen atom without neighbors\n",
      "[20:17:57] WARNING: not removing hydrogen atom without neighbors\n",
      "[20:18:11] WARNING: not removing hydrogen atom without neighbors\n",
      "[20:18:11] WARNING: not removing hydrogen atom without neighbors\n",
      "[20:18:22] WARNING: not removing hydrogen atom without neighbors\n",
      "[20:18:22] WARNING: not removing hydrogen atom without neighbors\n",
      "[20:19:35] WARNING: not removing hydrogen atom without neighbors\n",
      "[20:19:35] WARNING: not removing hydrogen atom without neighbors\n",
      "[20:19:35] WARNING: not removing hydrogen atom without neighbors\n",
      "[20:19:35] WARNING: not removing hydrogen atom without neighbors\n",
      "[20:19:35] WARNING: not removing hydrogen atom without neighbors\n",
      "[20:19:35] WARNING: not removing hydrogen atom without neighbors\n",
      "[20:20:47] WARNING: not removing hydrogen atom without neighbors\n",
      "[20:20:47] WARNING: not removing hydrogen atom without neighbors\n"
     ]
    },
    {
     "name": "stdout",
     "output_type": "stream",
     "text": [
      "Novelty: 0.9455\n",
      "KL Divergence: 6.4742\n",
      "Fragment Similarity: 0.0545\n",
      "Scaffold Diversity: 0.0148\n"
     ]
    }
   ],
   "source": [
    "generated_mols = smiles_to_mol(generated_smiles)\n",
    "\n",
    "# Novelty\n",
    "novelty = calculate_novelty(generated_mols, train_mols)\n",
    "print(f\"Novelty: {novelty:.4f}\")\n",
    "\n",
    "# KL Divergence (using molecular weight as an example property)\n",
    "kl_divergence = calculate_kl_divergence(generated_mols, train_mols)\n",
    "print(f\"KL Divergence: {kl_divergence:.4f}\")\n",
    "\n",
    "# Fragment Similarity\n",
    "fragment_similarity = calculate_fragment_similarity(generated_mols, train_mols)\n",
    "print(f\"Fragment Similarity: {fragment_similarity:.4f}\")\n",
    "\n",
    "# Scaffold Diversity\n",
    "scaffold_diversity = calculate_scaffold_diversity(generated_mols)\n",
    "print(f\"Scaffold Diversity: {scaffold_diversity:.4f}\")"
   ]
  },
  {
   "cell_type": "markdown",
   "id": "7562b73e-1094-4578-9d56-404b35415748",
   "metadata": {},
   "source": [
    "### Temperature = 0.25"
   ]
  },
  {
   "cell_type": "code",
   "execution_count": 10,
   "id": "b7f8f055-050f-473e-ad6e-a1ccae981047",
   "metadata": {
    "execution": {
     "iopub.execute_input": "2024-08-08T22:35:36.481237Z",
     "iopub.status.busy": "2024-08-08T22:35:36.481074Z",
     "iopub.status.idle": "2024-08-08T22:50:28.247806Z",
     "shell.execute_reply": "2024-08-08T22:50:28.247343Z",
     "shell.execute_reply.started": "2024-08-08T22:35:36.481223Z"
    }
   },
   "outputs": [
    {
     "name": "stdout",
     "output_type": "stream",
     "text": [
      "Generated molecule 1000: C(C)C(NC(=O)c1ccc(C)c(C)c1)C(=O)NC(C)C\n",
      "Generated molecule 2000: C(C)(C)C(=O)Nc1cccc(C(=O)NCC2CCCO2)c1\n",
      "Generated molecule 3000: Cc1nc(CN2CCOC(c3ccc(C)cc3)C2)no1\n",
      "Generated molecule 4000: C(C)C(=O)Nc1ccc(C(=O)Nc2cc(C)on2)cc1\n",
      "Generated molecule 5000: C(C)(C)NC(=O)CC1CCN(C(=O)c2ccc(C)c(F)c2)CC1\n",
      "Generated molecule 6000: C(C)NC(=O)c1ccc(C)c(S(=O)(=O)N2CCOCC2)c1\n",
      "Generated molecule 7000: C(C)C(NC(=O)C1CC(=O)N(C)C1)c1ccccc1\n",
      "Generated molecule 8000: C(C)(C)NC(=O)CN1C(=O)COc2ccc(N)cc21\n",
      "Generated molecule 9000: C(C)C(=O)Nc1ccc(S(=O)(=O)N2CCCC2)cc1\n",
      "Generated molecule 10000: C(C)NC(=O)C(C)Sc1nc2ccccc2s1\n"
     ]
    }
   ],
   "source": [
    "generated_smiles = []\n",
    "for i in range(10000):\n",
    "    start_seq = torch.tensor([sp.piece_to_id('<SOS>'), sp.piece_to_id('C')], device=device)  # Start with <SOS> and a carbon atom\n",
    "    generated_molecule = generate_molecule(model, start_seq, sp, max_length=150, temperature=0.25)  # Pass the SentencePiece model\n",
    "    generated_molecule = generated_molecule  # Remove start of sequence token\n",
    "    generated_smiles.append(generated_molecule)\n",
    "    \n",
    "    # Print every 1000th molecule\n",
    "    if (i + 1) % 1000 == 0:\n",
    "        print(f\"Generated molecule {i + 1}: {generated_molecule}\")"
   ]
  },
  {
   "cell_type": "code",
   "execution_count": 11,
   "id": "26a521a6-d7d3-451f-8ee8-9c16b1db6718",
   "metadata": {
    "execution": {
     "iopub.execute_input": "2024-08-08T22:50:28.249279Z",
     "iopub.status.busy": "2024-08-08T22:50:28.248601Z",
     "iopub.status.idle": "2024-08-08T22:50:55.880219Z",
     "shell.execute_reply": "2024-08-08T22:50:55.879664Z",
     "shell.execute_reply.started": "2024-08-08T22:50:28.249257Z"
    }
   },
   "outputs": [
    {
     "name": "stdout",
     "output_type": "stream",
     "text": [
      "Validity: 1.00\n",
      "Uniqueness: 0.49\n",
      "Diversity: 0.81\n"
     ]
    }
   ],
   "source": [
    "# Validity\n",
    "validity_score = validity_evaluator(generated_smiles)\n",
    "print(f\"Validity: {validity_score:.2f}\")\n",
    "\n",
    "# Uniqueness\n",
    "uniqueness_score = uniqueness_evaluator(generated_smiles)\n",
    "print(f\"Uniqueness: {uniqueness_score:.2f}\")\n",
    "\n",
    "# Diversity\n",
    "diversity_score = diversity_evaluator(generated_smiles)\n",
    "print(f\"Diversity: {diversity_score:.2f}\")"
   ]
  },
  {
   "cell_type": "code",
   "execution_count": 15,
   "id": "255ff202-938e-4c25-bd7b-77f0ff7ce2a5",
   "metadata": {
    "execution": {
     "iopub.execute_input": "2024-08-08T22:56:04.623281Z",
     "iopub.status.busy": "2024-08-08T22:56:04.622705Z",
     "iopub.status.idle": "2024-08-08T23:18:36.656420Z",
     "shell.execute_reply": "2024-08-08T23:18:36.655921Z",
     "shell.execute_reply.started": "2024-08-08T22:56:04.623256Z"
    }
   },
   "outputs": [
    {
     "name": "stderr",
     "output_type": "stream",
     "text": [
      "[23:04:41] WARNING: not removing hydrogen atom without neighbors\n",
      "[23:04:41] WARNING: not removing hydrogen atom without neighbors\n",
      "[23:04:54] WARNING: not removing hydrogen atom without neighbors\n",
      "[23:04:54] WARNING: not removing hydrogen atom without neighbors\n",
      "[23:05:04] WARNING: not removing hydrogen atom without neighbors\n",
      "[23:05:04] WARNING: not removing hydrogen atom without neighbors\n",
      "[23:06:10] WARNING: not removing hydrogen atom without neighbors\n",
      "[23:06:10] WARNING: not removing hydrogen atom without neighbors\n",
      "[23:06:10] WARNING: not removing hydrogen atom without neighbors\n",
      "[23:06:10] WARNING: not removing hydrogen atom without neighbors\n",
      "[23:06:10] WARNING: not removing hydrogen atom without neighbors\n",
      "[23:06:10] WARNING: not removing hydrogen atom without neighbors\n",
      "[23:07:14] WARNING: not removing hydrogen atom without neighbors\n",
      "[23:07:14] WARNING: not removing hydrogen atom without neighbors\n"
     ]
    },
    {
     "name": "stdout",
     "output_type": "stream",
     "text": [
      "Novelty: 0.8347\n",
      "KL Divergence: 4.3664\n",
      "Fragment Similarity: 0.1653\n",
      "Scaffold Diversity: 0.1398\n"
     ]
    }
   ],
   "source": [
    "generated_mols = smiles_to_mol(generated_smiles)\n",
    "\n",
    "# Novelty\n",
    "novelty = calculate_novelty(generated_mols, train_mols)\n",
    "print(f\"Novelty: {novelty:.4f}\")\n",
    "\n",
    "# KL Divergence (using molecular weight as an example property)\n",
    "kl_divergence = calculate_kl_divergence(generated_mols, train_mols)\n",
    "print(f\"KL Divergence: {kl_divergence:.4f}\")\n",
    "\n",
    "# Fragment Similarity\n",
    "fragment_similarity = calculate_fragment_similarity(generated_mols, train_mols)\n",
    "print(f\"Fragment Similarity: {fragment_similarity:.4f}\")\n",
    "\n",
    "# Scaffold Diversity\n",
    "scaffold_diversity = calculate_scaffold_diversity(generated_mols)\n",
    "print(f\"Scaffold Diversity: {scaffold_diversity:.4f}\")"
   ]
  },
  {
   "cell_type": "markdown",
   "id": "6fb733d9-5a5f-4892-8ce9-079aaa58e5f4",
   "metadata": {},
   "source": [
    "### Temperature = 0.5"
   ]
  },
  {
   "cell_type": "code",
   "execution_count": 17,
   "id": "35775e78-3299-4ccd-8246-358669ebcf3f",
   "metadata": {
    "execution": {
     "iopub.execute_input": "2024-08-08T23:18:43.457002Z",
     "iopub.status.busy": "2024-08-08T23:18:43.456399Z",
     "iopub.status.idle": "2024-08-08T23:34:06.464767Z",
     "shell.execute_reply": "2024-08-08T23:34:06.464338Z",
     "shell.execute_reply.started": "2024-08-08T23:18:43.456979Z"
    }
   },
   "outputs": [
    {
     "name": "stdout",
     "output_type": "stream",
     "text": [
      "Generated molecule 1000: C(C)(C)C(=O)Nc1ccc(C(=O)Nc2ccc(C)cc2)cc1\n",
      "Generated molecule 2000: C1(CC2CCN(C(=O)c3ccc(F)cc3)CC2)CC1\n",
      "Generated molecule 3000: Cc1nc(CN2CCN(C(=O)C(C)(C)C)CC2)no1\n",
      "Generated molecule 4000: C(C)N(C)C(=O)CN1CCN(C(=O)C(C)C)CC1\n",
      "Generated molecule 5000: C(C)C(=O)N1CCC(n2ncc3c(NCc4ccccc4)ncnc32)CC1\n",
      "Generated molecule 6000: Cc1ccc(C(=O)Nc2cc(C)no2)cc1\n",
      "Generated molecule 7000: C(=O)N1CCc2nc(-c3ccccc3)cc(NC(=O)Nc3ccc(F)c(C(F)(F)F)c3)c2C1\n",
      "Generated molecule 8000: C(C)(C)N(C)C(=O)CCc1nc2ccccc2s1\n",
      "Generated molecule 9000: Cc1c(C(=O)NCc2ccccn2)cnn1-c1ccccn1\n",
      "Generated molecule 10000: C(CC(=O)N1CCC(CCC(=O)O)CC1)c1ccc(F)cc1\n"
     ]
    }
   ],
   "source": [
    "generated_smiles = []\n",
    "for i in range(10000):\n",
    "    start_seq = torch.tensor([sp.piece_to_id('<SOS>'), sp.piece_to_id('C')], device=device)  # Start with <SOS> and a carbon atom\n",
    "    generated_molecule = generate_molecule(model, start_seq, sp, max_length=150, temperature=0.5)  # Pass the SentencePiece model\n",
    "    generated_molecule = generated_molecule  # Remove start of sequence token\n",
    "    generated_smiles.append(generated_molecule)\n",
    "    \n",
    "    # Print every 1000th molecule\n",
    "    if (i + 1) % 1000 == 0:\n",
    "        print(f\"Generated molecule {i + 1}: {generated_molecule}\")"
   ]
  },
  {
   "cell_type": "code",
   "execution_count": 18,
   "id": "a7ed3e1c-1525-4ce0-ae88-14851d8bb6fd",
   "metadata": {
    "execution": {
     "iopub.execute_input": "2024-08-08T23:34:06.465992Z",
     "iopub.status.busy": "2024-08-08T23:34:06.465659Z",
     "iopub.status.idle": "2024-08-08T23:35:38.103318Z",
     "shell.execute_reply": "2024-08-08T23:35:38.102876Z",
     "shell.execute_reply.started": "2024-08-08T23:34:06.465974Z"
    }
   },
   "outputs": [
    {
     "name": "stdout",
     "output_type": "stream",
     "text": [
      "Validity: 0.98\n",
      "Uniqueness: 0.95\n",
      "Diversity: 0.85\n"
     ]
    }
   ],
   "source": [
    "# Validity\n",
    "validity_score = validity_evaluator(generated_smiles)\n",
    "print(f\"Validity: {validity_score:.2f}\")\n",
    "\n",
    "# Uniqueness\n",
    "uniqueness_score = uniqueness_evaluator(generated_smiles)\n",
    "print(f\"Uniqueness: {uniqueness_score:.2f}\")\n",
    "\n",
    "# Diversity\n",
    "diversity_score = diversity_evaluator(generated_smiles)\n",
    "print(f\"Diversity: {diversity_score:.2f}\")"
   ]
  },
  {
   "cell_type": "code",
   "execution_count": 19,
   "id": "54099a99-ac2b-4920-834f-f1df9ed868a5",
   "metadata": {
    "execution": {
     "iopub.execute_input": "2024-08-08T23:35:38.104341Z",
     "iopub.status.busy": "2024-08-08T23:35:38.103931Z",
     "iopub.status.idle": "2024-08-08T23:50:27.672408Z",
     "shell.execute_reply": "2024-08-08T23:50:27.671941Z",
     "shell.execute_reply.started": "2024-08-08T23:35:38.104317Z"
    }
   },
   "outputs": [
    {
     "name": "stdout",
     "output_type": "stream",
     "text": [
      "Novelty: 0.8768\n",
      "KL Divergence: 5.7033\n",
      "Fragment Similarity: 0.1237\n",
      "Scaffold Diversity: 0.4556\n"
     ]
    }
   ],
   "source": [
    "generated_mols = smiles_to_mol(generated_smiles)\n",
    "\n",
    "# Novelty\n",
    "novelty = calculate_novelty(generated_mols, train_mols)\n",
    "print(f\"Novelty: {novelty:.4f}\")\n",
    "\n",
    "# KL Divergence (using molecular weight as an example property)\n",
    "kl_divergence = calculate_kl_divergence(generated_mols, train_mols)\n",
    "print(f\"KL Divergence: {kl_divergence:.4f}\")\n",
    "\n",
    "# Fragment Similarity\n",
    "fragment_similarity = calculate_fragment_similarity(generated_mols, train_mols)\n",
    "print(f\"Fragment Similarity: {fragment_similarity:.4f}\")\n",
    "\n",
    "# Scaffold Diversity\n",
    "scaffold_diversity = calculate_scaffold_diversity(generated_mols)\n",
    "print(f\"Scaffold Diversity: {scaffold_diversity:.4f}\")"
   ]
  },
  {
   "cell_type": "markdown",
   "id": "54490da8-56dd-4ae0-913b-1ff554af567c",
   "metadata": {},
   "source": [
    "### Temperature = 0.7"
   ]
  },
  {
   "cell_type": "code",
   "execution_count": 20,
   "id": "3afd55ff-43cb-493a-a2a4-11d7b4b988a9",
   "metadata": {
    "execution": {
     "iopub.execute_input": "2024-08-08T23:50:27.673800Z",
     "iopub.status.busy": "2024-08-08T23:50:27.673427Z",
     "iopub.status.idle": "2024-08-09T00:05:51.425559Z",
     "shell.execute_reply": "2024-08-09T00:05:51.417556Z",
     "shell.execute_reply.started": "2024-08-08T23:50:27.673783Z"
    }
   },
   "outputs": [
    {
     "name": "stdout",
     "output_type": "stream",
     "text": [
      "Generated molecule 1000: C1Cc2cccc3cccc(c23)C1C3=O\n",
      "Generated molecule 2000: C(C(=O)N1CCC(c2nc(C)no2)CC1)n1cccn1\n",
      "Generated molecule 3000: Cc1cc(NC(=O)c2cc(C)n(C)c2Cl)n(C)n1\n",
      "Generated molecule 4000: C(C)NC(=O)CC1Sc2ccccc2NC1=O\n",
      "Generated molecule 5000: C(=O)Nc1sc2c(c1C(N)=O)CCCC2\n",
      "Generated molecule 6000: C1Nc2ccccc2C(c2cccnc2)N1c1ccc(Cl)cc1\n",
      "Generated molecule 7000: C(=O)N1CCC(c2c(C)oc3cc(C)ccc23)CC1\n",
      "Generated molecule 8000: Cc1cc2cccn2[nH]1\n",
      "Generated molecule 9000: C1CN(C(=O)C2(c3ccc(Cl)cc3)CC2)CC(C)O1\n",
      "Generated molecule 10000: C(=O)N1CCN(C(=O)c2cc(OC)cc(OC)c2)CC1\n"
     ]
    }
   ],
   "source": [
    "generated_smiles = []\n",
    "for i in range(10000):\n",
    "    start_seq = torch.tensor([sp.piece_to_id('<SOS>'), sp.piece_to_id('C')], device=device)  # Start with <SOS> and a carbon atom\n",
    "    generated_molecule = generate_molecule(model, start_seq, sp, max_length=150, temperature=0.7)  # Pass the SentencePiece model\n",
    "    generated_molecule = generated_molecule  # Remove start of sequence token\n",
    "    generated_smiles.append(generated_molecule)\n",
    "    \n",
    "    # Print every 1000th molecule\n",
    "    if (i + 1) % 1000 == 0:\n",
    "        print(f\"Generated molecule {i + 1}: {generated_molecule}\")"
   ]
  },
  {
   "cell_type": "code",
   "execution_count": 21,
   "id": "7719d1c5-539b-40ad-891a-dfec4bc46d6c",
   "metadata": {
    "execution": {
     "iopub.execute_input": "2024-08-09T00:05:51.430199Z",
     "iopub.status.busy": "2024-08-09T00:05:51.430013Z",
     "iopub.status.idle": "2024-08-09T00:07:24.655441Z",
     "shell.execute_reply": "2024-08-09T00:07:24.654852Z",
     "shell.execute_reply.started": "2024-08-09T00:05:51.430183Z"
    }
   },
   "outputs": [
    {
     "name": "stderr",
     "output_type": "stream",
     "text": [
      "[00:05:51] Conflicting single bond directions around double bond at index 3.\n",
      "[00:05:51]   BondStereo set to STEREONONE and single bond directions set to NONE.\n"
     ]
    },
    {
     "name": "stdout",
     "output_type": "stream",
     "text": [
      "Validity: 0.96\n"
     ]
    },
    {
     "name": "stderr",
     "output_type": "stream",
     "text": [
      "[00:05:52] Conflicting single bond directions around double bond at index 3.\n",
      "[00:05:52]   BondStereo set to STEREONONE and single bond directions set to NONE.\n"
     ]
    },
    {
     "name": "stdout",
     "output_type": "stream",
     "text": [
      "Uniqueness: 0.95\n"
     ]
    },
    {
     "name": "stderr",
     "output_type": "stream",
     "text": [
      "[00:05:54] Conflicting single bond directions around double bond at index 3.\n",
      "[00:05:54]   BondStereo set to STEREONONE and single bond directions set to NONE.\n"
     ]
    },
    {
     "name": "stdout",
     "output_type": "stream",
     "text": [
      "Diversity: 0.87\n"
     ]
    }
   ],
   "source": [
    "# Validity\n",
    "validity_score = validity_evaluator(generated_smiles)\n",
    "print(f\"Validity: {validity_score:.2f}\")\n",
    "\n",
    "# Uniqueness\n",
    "uniqueness_score = uniqueness_evaluator(generated_smiles)\n",
    "print(f\"Uniqueness: {uniqueness_score:.2f}\")\n",
    "\n",
    "# Diversity\n",
    "diversity_score = diversity_evaluator(generated_smiles)\n",
    "print(f\"Diversity: {diversity_score:.2f}\")"
   ]
  },
  {
   "cell_type": "code",
   "execution_count": 22,
   "id": "a0b894a9-8e4f-43f7-8220-45bd5ae7e453",
   "metadata": {
    "execution": {
     "iopub.execute_input": "2024-08-09T00:07:24.656281Z",
     "iopub.status.busy": "2024-08-09T00:07:24.656117Z",
     "iopub.status.idle": "2024-08-09T00:22:35.854471Z",
     "shell.execute_reply": "2024-08-09T00:22:35.853953Z",
     "shell.execute_reply.started": "2024-08-09T00:07:24.656266Z"
    }
   },
   "outputs": [
    {
     "name": "stderr",
     "output_type": "stream",
     "text": [
      "[00:07:24] Conflicting single bond directions around double bond at index 3.\n",
      "[00:07:24]   BondStereo set to STEREONONE and single bond directions set to NONE.\n",
      "[00:07:24] Conflicting single bond directions around double bond at index 3.\n",
      "[00:07:24]   BondStereo set to STEREONONE and single bond directions set to NONE.\n"
     ]
    },
    {
     "name": "stdout",
     "output_type": "stream",
     "text": [
      "Novelty: 0.9240\n",
      "KL Divergence: 5.6936\n",
      "Fragment Similarity: 0.0778\n",
      "Scaffold Diversity: 0.6540\n"
     ]
    }
   ],
   "source": [
    "generated_mols = smiles_to_mol(generated_smiles)\n",
    "\n",
    "# Novelty\n",
    "novelty = calculate_novelty(generated_mols, train_mols)\n",
    "print(f\"Novelty: {novelty:.4f}\")\n",
    "\n",
    "# KL Divergence (using molecular weight as an example property)\n",
    "kl_divergence = calculate_kl_divergence(generated_mols, train_mols)\n",
    "print(f\"KL Divergence: {kl_divergence:.4f}\")\n",
    "\n",
    "# Fragment Similarity\n",
    "fragment_similarity = calculate_fragment_similarity(generated_mols, train_mols)\n",
    "print(f\"Fragment Similarity: {fragment_similarity:.4f}\")\n",
    "\n",
    "# Scaffold Diversity\n",
    "scaffold_diversity = calculate_scaffold_diversity(generated_mols)\n",
    "print(f\"Scaffold Diversity: {scaffold_diversity:.4f}\")"
   ]
  },
  {
   "cell_type": "markdown",
   "id": "18ad77bf-73dc-4ca3-bcc7-f799c3a16918",
   "metadata": {},
   "source": [
    "### Temperature = 0.9"
   ]
  },
  {
   "cell_type": "code",
   "execution_count": 23,
   "id": "c48111b6-9ad7-4c52-a229-b09598c50977",
   "metadata": {
    "execution": {
     "iopub.execute_input": "2024-08-09T00:22:35.855350Z",
     "iopub.status.busy": "2024-08-09T00:22:35.855186Z",
     "iopub.status.idle": "2024-08-09T00:37:34.199163Z",
     "shell.execute_reply": "2024-08-09T00:37:34.198454Z",
     "shell.execute_reply.started": "2024-08-09T00:22:35.855335Z"
    }
   },
   "outputs": [
    {
     "name": "stdout",
     "output_type": "stream",
     "text": [
      "Generated molecule 1000: Cc1cc(C(=O)N[C@]2(C(=O)O)C[C@H]3C[C@@](C)(C(=O)O)[C@H](C)CC[C@H]32)cs1\n",
      "Generated molecule 2000: Cn1c(-c2ccc(NC(=O)c3ccc4c(c3)CCO4)cc2)nc2n(c1=O)CCCCC2\n",
      "Generated molecule 3000: Cc1cc(C(=O)N2CCCC2c2ccnc(-n3ccnc3C)c2)co1\n",
      "Generated molecule 4000: C(C#N)Oc1ccc(CP(=O)(O)O)cc1\n",
      "Generated molecule 5000: C1CCCN(C(=O)CCCCCNC(=O)c2sc3c(c2C)CCCC3)C1\n",
      "Generated molecule 6000: C1(C#N)CCCN(C(=O)NCCCO)C1\n",
      "Generated molecule 7000: C(=O)Nc1cc2ncnc(Sc3cccc(NC(=O)c4ccccc4Cl)c3)c2cc1Cl\n",
      "Generated molecule 8000: C1CCN(C2CCc3c2n(Cc2ccccc4C)c(=O)c3C(=O)NC2CCc3c(C)noc32)CC1\n",
      "Generated molecule 9000: C[C@H](O[C@@H]1O[C@H](CO)[C@@H](O)[C@H](O)[C@H]1O)C(=O)OC\n",
      "Generated molecule 10000: Cc1cc( ⁇ )ccc1OC(=O)c1c(C)nc(NCC(C)C)nc1O\n"
     ]
    }
   ],
   "source": [
    "# Generate a large set of molecules (e.g., 10,000 or 30,000)\n",
    "generated_smiles = []\n",
    "for i in range(10000):\n",
    "    start_seq = torch.tensor([sp.piece_to_id('<SOS>'), sp.piece_to_id('C')], device=device)  # Start with <SOS> and a carbon atom\n",
    "    generated_molecule = generate_molecule(model, start_seq, sp, max_length=150, temperature=0.9)  # Pass the SentencePiece model\n",
    "    generated_molecule = generated_molecule  # Remove start of sequence token\n",
    "    generated_smiles.append(generated_molecule)\n",
    "    \n",
    "    # Print every 1000th molecule\n",
    "    if (i + 1) % 1000 == 0:\n",
    "        print(f\"Generated molecule {i + 1}: {generated_molecule}\")"
   ]
  },
  {
   "cell_type": "code",
   "execution_count": 24,
   "id": "6eef8661-226d-4d31-bfab-a734b271ffae",
   "metadata": {
    "execution": {
     "iopub.execute_input": "2024-08-09T00:37:34.200376Z",
     "iopub.status.busy": "2024-08-09T00:37:34.200201Z",
     "iopub.status.idle": "2024-08-09T00:38:53.769044Z",
     "shell.execute_reply": "2024-08-09T00:38:53.768655Z",
     "shell.execute_reply.started": "2024-08-09T00:37:34.200361Z"
    }
   },
   "outputs": [
    {
     "name": "stderr",
     "output_type": "stream",
     "text": [
      "[00:37:34] Conflicting single bond directions around double bond at index 40.\n",
      "[00:37:34]   BondStereo set to STEREONONE and single bond directions set to NONE.\n",
      "[00:37:35] Conflicting single bond directions around double bond at index 1.\n",
      "[00:37:35]   BondStereo set to STEREONONE and single bond directions set to NONE.\n"
     ]
    },
    {
     "name": "stdout",
     "output_type": "stream",
     "text": [
      "Validity: 0.88\n"
     ]
    },
    {
     "name": "stderr",
     "output_type": "stream",
     "text": [
      "[00:37:35] Conflicting single bond directions around double bond at index 40.\n",
      "[00:37:35]   BondStereo set to STEREONONE and single bond directions set to NONE.\n",
      "[00:37:36] Conflicting single bond directions around double bond at index 1.\n",
      "[00:37:36]   BondStereo set to STEREONONE and single bond directions set to NONE.\n"
     ]
    },
    {
     "name": "stdout",
     "output_type": "stream",
     "text": [
      "Uniqueness: 0.88\n"
     ]
    },
    {
     "name": "stderr",
     "output_type": "stream",
     "text": [
      "[00:37:37] Conflicting single bond directions around double bond at index 40.\n",
      "[00:37:37]   BondStereo set to STEREONONE and single bond directions set to NONE.\n",
      "[00:37:38] Conflicting single bond directions around double bond at index 1.\n",
      "[00:37:38]   BondStereo set to STEREONONE and single bond directions set to NONE.\n"
     ]
    },
    {
     "name": "stdout",
     "output_type": "stream",
     "text": [
      "Diversity: 0.88\n"
     ]
    }
   ],
   "source": [
    "# Validity\n",
    "validity_score = validity_evaluator(generated_smiles)\n",
    "print(f\"Validity: {validity_score:.2f}\")\n",
    "\n",
    "# Uniqueness\n",
    "uniqueness_score = uniqueness_evaluator(generated_smiles)\n",
    "print(f\"Uniqueness: {uniqueness_score:.2f}\")\n",
    "\n",
    "# Diversity\n",
    "diversity_score = diversity_evaluator(generated_smiles)\n",
    "print(f\"Diversity: {diversity_score:.2f}\")"
   ]
  },
  {
   "cell_type": "code",
   "execution_count": 25,
   "id": "f09cca84-f0c8-45bd-85c4-c487e4306ec4",
   "metadata": {
    "execution": {
     "iopub.execute_input": "2024-08-09T00:38:53.769921Z",
     "iopub.status.busy": "2024-08-09T00:38:53.769759Z",
     "iopub.status.idle": "2024-08-09T00:54:35.111229Z",
     "shell.execute_reply": "2024-08-09T00:54:35.110535Z",
     "shell.execute_reply.started": "2024-08-09T00:38:53.769907Z"
    }
   },
   "outputs": [
    {
     "name": "stderr",
     "output_type": "stream",
     "text": [
      "[00:38:53] Conflicting single bond directions around double bond at index 40.\n",
      "[00:38:53]   BondStereo set to STEREONONE and single bond directions set to NONE.\n",
      "[00:38:53] Conflicting single bond directions around double bond at index 40.\n",
      "[00:38:53]   BondStereo set to STEREONONE and single bond directions set to NONE.\n",
      "[00:38:55] Conflicting single bond directions around double bond at index 1.\n",
      "[00:38:55]   BondStereo set to STEREONONE and single bond directions set to NONE.\n",
      "[00:38:55] Conflicting single bond directions around double bond at index 1.\n",
      "[00:38:55]   BondStereo set to STEREONONE and single bond directions set to NONE.\n"
     ]
    },
    {
     "name": "stdout",
     "output_type": "stream",
     "text": [
      "Novelty: 0.9562\n",
      "KL Divergence: 5.3179\n",
      "Fragment Similarity: 0.0502\n",
      "Scaffold Diversity: 0.7524\n"
     ]
    }
   ],
   "source": [
    "generated_mols = smiles_to_mol(generated_smiles)\n",
    "\n",
    "# Novelty\n",
    "novelty = calculate_novelty(generated_mols, train_mols)\n",
    "print(f\"Novelty: {novelty:.4f}\")\n",
    "\n",
    "# KL Divergence (using molecular weight as an example property)\n",
    "kl_divergence = calculate_kl_divergence(generated_mols, train_mols)\n",
    "print(f\"KL Divergence: {kl_divergence:.4f}\")\n",
    "\n",
    "# Fragment Similarity\n",
    "fragment_similarity = calculate_fragment_similarity(generated_mols, train_mols)\n",
    "print(f\"Fragment Similarity: {fragment_similarity:.4f}\")\n",
    "\n",
    "# Scaffold Diversity\n",
    "scaffold_diversity = calculate_scaffold_diversity(generated_mols)\n",
    "print(f\"Scaffold Diversity: {scaffold_diversity:.4f}\")"
   ]
  }
 ],
 "metadata": {
  "kernelspec": {
   "display_name": "Python 3 (ipykernel)",
   "language": "python",
   "name": "python3"
  },
  "language_info": {
   "codemirror_mode": {
    "name": "ipython",
    "version": 3
   },
   "file_extension": ".py",
   "mimetype": "text/x-python",
   "name": "python",
   "nbconvert_exporter": "python",
   "pygments_lexer": "ipython3",
   "version": "3.11.7"
  }
 },
 "nbformat": 4,
 "nbformat_minor": 5
}
