{
 "cells": [
  {
   "cell_type": "markdown",
   "id": "7f20e2ec-2859-498c-8ac8-7cc86f09bcb0",
   "metadata": {},
   "source": [
    "# Train MolDecod - Decoder-only transformer with rotary positional encoding for molecule generation\n",
    "\n",
    "This is the end-to-end notebook to train and evaluate MolDecod, a small decoder-only transformer for generating molecules represented as SMILES, and its tokenizer (using SentencePiece).\n",
    "\n",
    "The entire notebook takes ~5 hours to run on an NVIDIA A100.\n",
    "\n",
    "### Data\n",
    "\n",
    "We train the model on a combination of two datasets for molecule generation (cf [here](https://tdcommons.ai/generation_tasks/molgen/)):\n",
    "- MOSES, a benchmark platform for distribution learning based molecule generation, processed from the ZINC Clean Leads dataset, containing ~ 2 million molecules.\n",
    "- ChEMBL, a manually curated database of bioactive molecules with drug-like properties, containing ~ 2 million molecules.\n",
    "\n",
    "The split results in 2.7 million molecules in the training set, and ~600k molecules in both the validation and test sets.\n",
    "\n",
    "### Result\n",
    "\n",
    "The final model has 5 million parameters and is very performant for its size.\n",
    "\n",
    "On 10,000 generated molecules:\n",
    "- Validity: 0.95\n",
    "- Uniqueness: 0.95\n",
    "- Diversity: 0.87\n",
    "- Novelty: 0.93"
   ]
  },
  {
   "cell_type": "markdown",
   "id": "146f204f-060f-4611-8927-1eaee72ed204",
   "metadata": {},
   "source": [
    "## Setup"
   ]
  },
  {
   "cell_type": "code",
   "execution_count": null,
   "id": "7d80311e-a39c-477e-bafe-68c26448d1f0",
   "metadata": {
    "execution": {
     "iopub.execute_input": "2024-08-07T11:25:46.375496Z",
     "iopub.status.busy": "2024-08-07T11:25:46.375027Z",
     "iopub.status.idle": "2024-08-07T11:26:17.614936Z",
     "shell.execute_reply": "2024-08-07T11:26:17.614426Z",
     "shell.execute_reply.started": "2024-08-07T11:25:46.375476Z"
    }
   },
   "outputs": [],
   "source": [
    "# pip install torch scikit-learn PyTDC rdkit-pypi sentencepiece"
   ]
  },
  {
   "cell_type": "code",
   "execution_count": 2,
   "id": "73fe0120-dd08-41e5-ad89-710bbf95201c",
   "metadata": {
    "execution": {
     "iopub.execute_input": "2024-08-07T11:26:17.616356Z",
     "iopub.status.busy": "2024-08-07T11:26:17.616181Z",
     "iopub.status.idle": "2024-08-07T11:27:27.450455Z",
     "shell.execute_reply": "2024-08-07T11:27:27.449881Z",
     "shell.execute_reply.started": "2024-08-07T11:26:17.616338Z"
    }
   },
   "outputs": [
    {
     "name": "stdout",
     "output_type": "stream",
     "text": [
      "CUDA is available.\n",
      "Number of GPUs available: 1\n",
      "Device 1: NVIDIA A100-SXM4-80GB\n",
      "  - Total Memory: 79.32 GB\n",
      "  - Multiprocessors: 108\n",
      "  - Compute Capability: 8.0\n",
      "Using device: cuda\n"
     ]
    }
   ],
   "source": [
    "import math\n",
    "import pandas as pd\n",
    "import numpy as np\n",
    "import torch\n",
    "import torch.nn as nn\n",
    "import torch.optim as optim\n",
    "from torch.utils.data import Dataset, DataLoader\n",
    "from sklearn.model_selection import train_test_split\n",
    "from rdkit import Chem\n",
    "import sentencepiece as spm\n",
    "\n",
    "# Check if GPU is available\n",
    "cuda_available = torch.cuda.is_available()\n",
    "\n",
    "if cuda_available:\n",
    "    print(\"CUDA is available.\")\n",
    "    print(f\"Number of GPUs available: {torch.cuda.device_count()}\")\n",
    "\n",
    "    for i in range(torch.cuda.device_count()):\n",
    "        print(f\"Device {i+1}: {torch.cuda.get_device_name(i)}\")\n",
    "        print(f\"  - Total Memory: {torch.cuda.get_device_properties(i).total_memory / (1024 ** 3):.2f} GB\")\n",
    "        print(f\"  - Multiprocessors: {torch.cuda.get_device_properties(i).multi_processor_count}\")\n",
    "        print(f\"  - Compute Capability: {torch.cuda.get_device_properties(i).major}.{torch.cuda.get_device_properties(i).minor}\")\n",
    "else:\n",
    "    print(\"CUDA is not available.\")\n",
    "\n",
    "# Use GPU if available, CPU if not\n",
    "device = torch.device(\"cuda\" if torch.cuda.is_available() else \"cpu\")\n",
    "print(f\"Using device: {device}\")\n",
    "\n",
    "# Pre-define seed for reproducibility\n",
    "seed = 42\n",
    "torch.manual_seed(seed)\n",
    "if cuda_available:\n",
    "    torch.cuda.manual_seed(seed)\n",
    "    torch.cuda.manual_seed_all(seed)  # if you are using multi-GPU.\n",
    "    torch.backends.cudnn.deterministic = True\n",
    "    torch.backends.cudnn.benchmark = False"
   ]
  },
  {
   "cell_type": "markdown",
   "id": "886d6330-6156-48d5-ac0e-9eb65ad81e60",
   "metadata": {},
   "source": [
    "## Data\n",
    "\n",
    "We import, concatenate and re-split MOSES and ChEMBL, because the original validation set was too small and led to overfitting.\n",
    "\n",
    "You can also specify a path, where to save the data by specifiying:\n",
    "- `path = ''`\n",
    "- `data_source = MolGen(name=source_name, path=path)`"
   ]
  },
  {
   "cell_type": "code",
   "execution_count": 3,
   "id": "19174fba-577e-48d4-a84d-e9c8b9e17dd8",
   "metadata": {
    "execution": {
     "iopub.execute_input": "2024-08-07T11:27:27.451407Z",
     "iopub.status.busy": "2024-08-07T11:27:27.451142Z",
     "iopub.status.idle": "2024-08-07T11:27:36.169421Z",
     "shell.execute_reply": "2024-08-07T11:27:36.169036Z",
     "shell.execute_reply.started": "2024-08-07T11:27:27.451390Z"
    }
   },
   "outputs": [
    {
     "name": "stderr",
     "output_type": "stream",
     "text": [
      "Found local copy...\n",
      "Loading...\n",
      "Done!\n",
      "Found local copy...\n",
      "Loading...\n",
      "Done!\n"
     ]
    },
    {
     "name": "stdout",
     "output_type": "stream",
     "text": [
      "                                   smiles\n",
      "0           COCCOCC1NCCc2cc3ccc(O)cc3cc21\n",
      "1     Cc1ccc(NC(=O)N2CCCC2C(O)C(F)(F)F)s1\n",
      "2  COc1ccc(C(C)NC(=O)CCn2cc(C)cn2)c(OC)c1\n",
      "3   COc1ccc(Cl)cc1-c1ccc(C#N)c(=O)n1C(C)C\n",
      "4         O=C(c1cc(-n2cccn2)ccn1)N1CCOCC1\n",
      "Train set shape: (2714758, 1)\n",
      "Validation set shape: (581853, 1)\n",
      "Test set shape: (581756, 1)\n"
     ]
    }
   ],
   "source": [
    "from tdc.generation import MolGen\n",
    "\n",
    "# Get MolGen datasets, and split 70/15/15 (train/validation/test)\n",
    "def load_and_prepare_data(source_name, test_size=0.15, val_size=0.1765, random_state=42):\n",
    "    # Initialize and get data splits\n",
    "    data_source = MolGen(name=source_name)\n",
    "    split_data = data_source.get_split()\n",
    "\n",
    "    # Combine train, valid, and test into a single DataFrame and drop NaNs\n",
    "    df = pd.concat([split_data['train'], split_data['valid'], split_data['test']], ignore_index=True)\n",
    "    df.dropna(subset=['smiles'], inplace=True)\n",
    "\n",
    "    # Train-validation-test split\n",
    "    train_val, test = train_test_split(df, test_size=test_size, random_state=random_state)\n",
    "    train, valid = train_test_split(train_val, test_size=val_size, random_state=random_state)\n",
    "    \n",
    "    return train, valid, test\n",
    "\n",
    "# Load and prepare datasets\n",
    "train_moses, valid_moses, test_moses = load_and_prepare_data('MOSES')\n",
    "train_chembl, valid_chembl, test_chembl = load_and_prepare_data('ChEMBL')\n",
    "\n",
    "# Concatenate the two sources\n",
    "train_df = pd.concat([train_moses, train_chembl], ignore_index=True)\n",
    "valid_df = pd.concat([valid_moses, valid_chembl], ignore_index=True)\n",
    "test_df = pd.concat([test_moses, test_chembl], ignore_index=True)\n",
    "\n",
    "# Display the first few entries and shapes of datasets\n",
    "print(train_df.head())\n",
    "print(f\"Train set shape: {train_df.shape}\")\n",
    "print(f\"Validation set shape: {valid_df.shape}\")\n",
    "print(f\"Test set shape: {test_df.shape}\")"
   ]
  },
  {
   "cell_type": "markdown",
   "id": "fb1b0aff-6374-4530-9da1-423820053741",
   "metadata": {},
   "source": [
    "## Tokenizer\n",
    "\n",
    "We train a SentencePiece tokenizer, with a vocab size of 1000."
   ]
  },
  {
   "cell_type": "code",
   "execution_count": 4,
   "id": "babb655c-87ee-43d2-a582-5df9b4f93f95",
   "metadata": {
    "execution": {
     "iopub.execute_input": "2024-08-07T11:27:36.170739Z",
     "iopub.status.busy": "2024-08-07T11:27:36.170558Z",
     "iopub.status.idle": "2024-08-07T11:27:36.174864Z",
     "shell.execute_reply": "2024-08-07T11:27:36.174475Z",
     "shell.execute_reply.started": "2024-08-07T11:27:36.170692Z"
    }
   },
   "outputs": [],
   "source": [
    "# Special tokens\n",
    "SOS_TOKEN = '<SOS>'  # start of sequence\n",
    "EOS_TOKEN = '<EOS>'  # end of sequence\n",
    "PAD_TOKEN = '<PAD>'  # padding"
   ]
  },
  {
   "cell_type": "code",
   "execution_count": 4,
   "id": "6654098f-f9b9-4cce-8741-6b76fc4af06b",
   "metadata": {
    "execution": {
     "iopub.execute_input": "2024-08-06T21:35:00.625231Z",
     "iopub.status.busy": "2024-08-06T21:35:00.624762Z",
     "iopub.status.idle": "2024-08-06T22:00:37.906438Z",
     "shell.execute_reply": "2024-08-06T22:00:37.905959Z",
     "shell.execute_reply.started": "2024-08-06T21:35:00.625213Z"
    }
   },
   "outputs": [
    {
     "name": "stderr",
     "output_type": "stream",
     "text": [
      "[21:42:16] WARNING: not removing hydrogen atom without neighbors\n",
      "[21:42:27] WARNING: not removing hydrogen atom without neighbors\n",
      "[21:42:36] WARNING: not removing hydrogen atom without neighbors\n",
      "[21:43:31] WARNING: not removing hydrogen atom without neighbors\n",
      "[21:43:31] WARNING: not removing hydrogen atom without neighbors\n",
      "[21:43:31] WARNING: not removing hydrogen atom without neighbors\n",
      "[21:44:25] WARNING: not removing hydrogen atom without neighbors\n",
      "sentencepiece_trainer.cc(77) LOG(INFO) Starts training with : \n",
      "trainer_spec {\n",
      "  input: train_smiles.txt\n",
      "  input_format: \n",
      "  model_prefix: smiles\n",
      "  model_type: UNIGRAM\n",
      "  vocab_size: 1000\n",
      "  self_test_sample_size: 0\n",
      "  character_coverage: 0.9995\n",
      "  input_sentence_size: 0\n",
      "  shuffle_input_sentence: 1\n",
      "  seed_sentencepiece_size: 1000000\n",
      "  shrinking_factor: 0.75\n",
      "  max_sentence_length: 4192\n",
      "  num_threads: 16\n",
      "  num_sub_iterations: 2\n",
      "  max_sentencepiece_length: 16\n",
      "  split_by_unicode_script: 1\n",
      "  split_by_number: 1\n",
      "  split_by_whitespace: 1\n",
      "  split_digits: 0\n",
      "  pretokenization_delimiter: \n",
      "  treat_whitespace_as_suffix: 0\n",
      "  allow_whitespace_only_pieces: 0\n",
      "  user_defined_symbols: <EOS>\n",
      "  user_defined_symbols: <PAD>\n",
      "  user_defined_symbols: <SOS>\n",
      "  required_chars: \n",
      "  byte_fallback: 0\n",
      "  vocabulary_output_piece_score: 1\n",
      "  train_extremely_large_corpus: 0\n",
      "  hard_vocab_limit: 1\n",
      "  use_all_vocab: 0\n",
      "  unk_id: 0\n",
      "  bos_id: 1\n",
      "  eos_id: 2\n",
      "  pad_id: -1\n",
      "  unk_piece: <unk>\n",
      "  bos_piece: <s>\n",
      "  eos_piece: </s>\n",
      "  pad_piece: <pad>\n",
      "  unk_surface:  ⁇ \n",
      "  enable_differential_privacy: 0\n",
      "  differential_privacy_noise_level: 0\n",
      "  differential_privacy_clipping_threshold: 0\n",
      "}\n",
      "normalizer_spec {\n",
      "  name: nmt_nfkc\n",
      "  add_dummy_prefix: 1\n",
      "  remove_extra_whitespaces: 1\n",
      "  escape_whitespaces: 1\n",
      "  normalization_rule_tsv: \n",
      "}\n",
      "denormalizer_spec {}\n",
      "trainer_interface.cc(351) LOG(INFO) SentenceIterator is not specified. Using MultiFileSentenceIterator.\n",
      "trainer_interface.cc(183) LOG(INFO) Loading corpus: train_smiles.txt\n",
      "trainer_interface.cc(145) LOG(INFO) Loaded 1000000 lines\n",
      "trainer_interface.cc(145) LOG(INFO) Loaded 2000000 lines\n",
      "trainer_interface.cc(122) LOG(WARNING) Too many sentences are loaded! (2714758), which may slow down training.\n",
      "trainer_interface.cc(124) LOG(WARNING) Consider using --input_sentence_size=<size> and --shuffle_input_sentence=true.\n",
      "trainer_interface.cc(127) LOG(WARNING) They allow to randomly sample <size> sentences from the entire corpus.\n",
      "trainer_interface.cc(407) LOG(INFO) Loaded all 2714758 sentences\n",
      "trainer_interface.cc(423) LOG(INFO) Adding meta_piece: <unk>\n",
      "trainer_interface.cc(423) LOG(INFO) Adding meta_piece: <s>\n",
      "trainer_interface.cc(423) LOG(INFO) Adding meta_piece: </s>\n",
      "trainer_interface.cc(423) LOG(INFO) Adding meta_piece: <EOS>\n",
      "trainer_interface.cc(423) LOG(INFO) Adding meta_piece: <PAD>\n",
      "trainer_interface.cc(423) LOG(INFO) Adding meta_piece: <SOS>\n",
      "trainer_interface.cc(428) LOG(INFO) Normalizing sentences...\n",
      "trainer_interface.cc(537) LOG(INFO) all chars count=129096807\n",
      "trainer_interface.cc(548) LOG(INFO) Done: 99.9582% characters are covered.\n",
      "trainer_interface.cc(558) LOG(INFO) Alphabet size=33\n",
      "trainer_interface.cc(559) LOG(INFO) Final character coverage=0.999582\n",
      "trainer_interface.cc(591) LOG(INFO) Done! preprocessed 2714758 sentences.\n",
      "unigram_model_trainer.cc(222) LOG(INFO) Making suffix array...\n",
      "unigram_model_trainer.cc(226) LOG(INFO) Extracting frequent sub strings... node_num=93372456\n",
      "unigram_model_trainer.cc(274) LOG(INFO) Initialized 5669 seed sentencepieces\n",
      "trainer_interface.cc(597) LOG(INFO) Tokenizing input sentences with whitespace: 2714758\n",
      "trainer_interface.cc(608) LOG(INFO) Done! 2681082\n",
      "unigram_model_trainer.cc(564) LOG(INFO) Using 2681082 sentences for EM training\n",
      "unigram_model_trainer.cc(580) LOG(INFO) EM sub_iter=0 size=3083 obj=124.421 num_tokens=81447486 num_tokens/piece=26418.3\n",
      "unigram_model_trainer.cc(580) LOG(INFO) EM sub_iter=1 size=2283 obj=112.114 num_tokens=85215127 num_tokens/piece=37325.9\n",
      "unigram_model_trainer.cc(580) LOG(INFO) EM sub_iter=0 size=1151 obj=112.619 num_tokens=88178349 num_tokens/piece=76610.2\n",
      "unigram_model_trainer.cc(580) LOG(INFO) EM sub_iter=1 size=1139 obj=111.011 num_tokens=88563777 num_tokens/piece=77755.7\n",
      "unigram_model_trainer.cc(580) LOG(INFO) EM sub_iter=0 size=1053 obj=111.209 num_tokens=89123274 num_tokens/piece=84637.5\n",
      "unigram_model_trainer.cc(580) LOG(INFO) EM sub_iter=1 size=1050 obj=111.001 num_tokens=90002138 num_tokens/piece=85716.3\n",
      "trainer_interface.cc(686) LOG(INFO) Saving model: smiles.model\n",
      "trainer_interface.cc(698) LOG(INFO) Saving vocabs: smiles.vocab\n",
      "[21:53:53] WARNING: not removing hydrogen atom without neighbors\n",
      "[21:54:05] WARNING: not removing hydrogen atom without neighbors\n",
      "[21:54:14] WARNING: not removing hydrogen atom without neighbors\n",
      "[21:55:13] WARNING: not removing hydrogen atom without neighbors\n",
      "[21:55:13] WARNING: not removing hydrogen atom without neighbors\n",
      "[21:55:13] WARNING: not removing hydrogen atom without neighbors\n",
      "[21:56:11] WARNING: not removing hydrogen atom without neighbors\n"
     ]
    }
   ],
   "source": [
    "# Prepare SMILES data for SentencePiece tokenizer\n",
    "def prepare_smiles_file(dataframe, file_name='train_smiles.txt'):\n",
    "    smiles_strings = dataframe['smiles'].tolist()\n",
    "    with open(file_name, 'w') as f:\n",
    "        for smile in smiles_strings:\n",
    "            mol = Chem.MolFromSmiles(smile)\n",
    "            if mol is not None:\n",
    "                canonical_smile = Chem.MolToSmiles(mol, canonical=True)\n",
    "                f.write(canonical_smile + '\\n')  # Write each SMILES on a new line\n",
    "            else:\n",
    "                print(f\"Invalid SMILES string: {smile}\")\n",
    "\n",
    "# Prepare training data (creates 'train_smiles.txt')\n",
    "prepare_smiles_file(train_df, 'train_smiles.txt')\n",
    "\n",
    "# Train and save SentencePiece tokenizer model\n",
    "spm.SentencePieceTrainer.Train(input='train_smiles.txt', model_prefix='smiles', vocab_size=1000, user_defined_symbols=[EOS_TOKEN, PAD_TOKEN, SOS_TOKEN])"
   ]
  },
  {
   "cell_type": "code",
   "execution_count": 5,
   "id": "f9f5d6f1-a927-438f-a008-c8100b26046e",
   "metadata": {
    "execution": {
     "iopub.execute_input": "2024-08-07T11:27:36.175541Z",
     "iopub.status.busy": "2024-08-07T11:27:36.175390Z",
     "iopub.status.idle": "2024-08-07T11:40:48.277153Z",
     "shell.execute_reply": "2024-08-07T11:40:48.276583Z",
     "shell.execute_reply.started": "2024-08-07T11:27:36.175538Z"
    }
   },
   "outputs": [
    {
     "name": "stderr",
     "output_type": "stream",
     "text": [
      "[11:34:43] WARNING: not removing hydrogen atom without neighbors\n",
      "[11:34:54] WARNING: not removing hydrogen atom without neighbors\n",
      "[11:35:02] WARNING: not removing hydrogen atom without neighbors\n",
      "[11:35:56] WARNING: not removing hydrogen atom without neighbors\n",
      "[11:35:56] WARNING: not removing hydrogen atom without neighbors\n",
      "[11:35:56] WARNING: not removing hydrogen atom without neighbors\n",
      "[11:36:48] WARNING: not removing hydrogen atom without neighbors\n"
     ]
    }
   ],
   "source": [
    "# Load SentencePiece tokenizer model\n",
    "sp = spm.SentencePieceProcessor()\n",
    "sp.load('smiles.model')\n",
    "\n",
    "# Dataset Class\n",
    "class SMILESDataset(Dataset):\n",
    "    def __init__(self, dataframe, sp_model):\n",
    "        self.smiles = dataframe['smiles'].tolist()\n",
    "        self.sp = sp_model\n",
    "\n",
    "        # Process SMILES using the tokenizer\n",
    "        self.processed_smiles = []\n",
    "        for smile in self.smiles:\n",
    "            mol = Chem.MolFromSmiles(smile)\n",
    "            if mol is not None:  # Ensure valid SMILES\n",
    "                canonical_smile = Chem.MolToSmiles(mol, canonical=True)\n",
    "                self.processed_smiles.append(canonical_smile)\n",
    "            else:\n",
    "                print(f\"Invalid SMILES string: {smile}\")\n",
    "\n",
    "    def __len__(self):\n",
    "        return len(self.processed_smiles)\n",
    "\n",
    "    def __getitem__(self, idx):\n",
    "        smile = self.processed_smiles[idx]\n",
    "        # Tokenize\n",
    "        tokens = [self.sp.piece_to_id(SOS_TOKEN)] + self.sp.encode(smile) + [self.sp.piece_to_id(EOS_TOKEN)]\n",
    "        return torch.tensor(tokens, dtype=torch.long)\n",
    "\n",
    "# Custom collate function for padding sequences\n",
    "def collate_fn(batch):\n",
    "    batch = [item for item in batch]\n",
    "    batch = torch.nn.utils.rnn.pad_sequence(batch, batch_first=True, padding_value=sp.piece_to_id(PAD_TOKEN))\n",
    "    return batch\n",
    "\n",
    "# Dataset setup\n",
    "train_dataset = SMILESDataset(train_df, sp)\n",
    "valid_dataset = SMILESDataset(valid_df, sp)\n",
    "test_dataset = SMILESDataset(test_df, sp)"
   ]
  },
  {
   "cell_type": "code",
   "execution_count": 14,
   "id": "55fc3c31-dff8-4777-af93-3da8bebbe2a5",
   "metadata": {
    "execution": {
     "iopub.execute_input": "2024-08-07T09:46:56.976542Z",
     "iopub.status.busy": "2024-08-07T09:46:56.975885Z",
     "iopub.status.idle": "2024-08-07T09:48:13.345365Z",
     "shell.execute_reply": "2024-08-07T09:48:13.344178Z",
     "shell.execute_reply.started": "2024-08-07T09:46:56.976542Z"
    }
   },
   "outputs": [
    {
     "name": "stdout",
     "output_type": "stream",
     "text": [
      "Total number of tokens in training dataset: 96855925\n",
      "Total number of tokens in validation dataset: 20757282\n",
      "Total number of tokens in test dataset: 20727137\n"
     ]
    }
   ],
   "source": [
    "# Calculate the number of tokens in the dataset\n",
    "def calculate_total_tokens(dataset):\n",
    "    total_tokens = 0\n",
    "    for i in range(len(dataset)):\n",
    "        tokens = dataset[i]\n",
    "        total_tokens += len(tokens)\n",
    "    return total_tokens\n",
    "\n",
    "total_train_tokens = calculate_total_tokens(train_dataset)\n",
    "total_valid_tokens = calculate_total_tokens(valid_dataset)\n",
    "total_test_tokens = calculate_total_tokens(test_dataset)\n",
    "\n",
    "print(f\"Total number of tokens in training dataset: {total_train_tokens}\")\n",
    "print(f\"Total number of tokens in validation dataset: {total_valid_tokens}\")\n",
    "print(f\"Total number of tokens in test dataset: {total_test_tokens}\")"
   ]
  },
  {
   "cell_type": "markdown",
   "id": "22259afb-9dd2-4544-bbb2-c1a47e8eb99d",
   "metadata": {},
   "source": [
    "## Model\n",
    "\n",
    "This is where we define the model architecture, particularly the rotary positional encoding and the decoder-only transformer, as well as the hyperparameters."
   ]
  },
  {
   "cell_type": "code",
   "execution_count": 6,
   "id": "57518a1d-1b84-4acb-b191-00211af887fe",
   "metadata": {
    "execution": {
     "iopub.execute_input": "2024-08-07T11:40:48.277896Z",
     "iopub.status.busy": "2024-08-07T11:40:48.277729Z",
     "iopub.status.idle": "2024-08-07T11:40:48.478758Z",
     "shell.execute_reply": "2024-08-07T11:40:48.478188Z",
     "shell.execute_reply.started": "2024-08-07T11:40:48.277880Z"
    }
   },
   "outputs": [],
   "source": [
    "class RotaryPositionalEncoding(nn.Module):\n",
    "    def __init__(self, d_model, dropout=0.1, max_len=5000):\n",
    "        super(RotaryPositionalEncoding, self).__init__()\n",
    "        self.d_model = d_model\n",
    "        self.dropout = nn.Dropout(p=dropout)\n",
    "        \n",
    "        position = torch.arange(0, max_len).unsqueeze(1)\n",
    "        div_term = torch.exp(torch.arange(0, d_model, 2) * -(math.log(10000.0) / d_model))\n",
    "        self.register_buffer('sin_pos', torch.sin(position * div_term))\n",
    "        self.register_buffer('cos_pos', torch.cos(position * div_term))\n",
    "\n",
    "    def forward(self, x):\n",
    "        seq_len = x.size(1)\n",
    "        x1 = x[..., ::2]\n",
    "        x2 = x[..., 1::2]\n",
    "        x = torch.cat([\n",
    "            x1 * self.cos_pos[:seq_len] - x2 * self.sin_pos[:seq_len],\n",
    "            x1 * self.sin_pos[:seq_len] + x2 * self.cos_pos[:seq_len]\n",
    "        ], dim=-1)\n",
    "        return self.dropout(x)\n",
    "\n",
    "class DecoderOnlyTransformer(nn.Module):\n",
    "    def __init__(self, vocab_size, d_model, nhead, num_layers, dropout=0.1):\n",
    "        super(DecoderOnlyTransformer, self).__init__()\n",
    "        self.d_model = d_model\n",
    "        self.embedding = nn.Embedding(vocab_size, d_model)\n",
    "        self.pos_encoder = RotaryPositionalEncoding(d_model)\n",
    "        encoder_layer = nn.TransformerEncoderLayer(d_model, nhead, dim_feedforward=4*d_model, dropout=dropout, activation='gelu', batch_first=True, norm_first=True)\n",
    "        self.transformer_encoder = nn.TransformerEncoder(encoder_layer, num_layers)\n",
    "        self.fc_out = nn.Linear(d_model, vocab_size)\n",
    "        self.dropout = nn.Dropout(p=dropout)\n",
    "        \n",
    "    def forward(self, src, src_mask=None):\n",
    "        src = self.embedding(src) * math.sqrt(self.d_model)\n",
    "        src = self.pos_encoder(src)\n",
    "        output = self.transformer_encoder(src, mask=src_mask)\n",
    "        output = self.fc_out(output)\n",
    "        return self.dropout(output)"
   ]
  },
  {
   "cell_type": "code",
   "execution_count": 7,
   "id": "2186a203-acea-4489-9586-af2a568ae7f2",
   "metadata": {
    "execution": {
     "iopub.execute_input": "2024-08-07T11:40:48.479526Z",
     "iopub.status.busy": "2024-08-07T11:40:48.479348Z",
     "iopub.status.idle": "2024-08-07T11:40:50.864289Z",
     "shell.execute_reply": "2024-08-07T11:40:50.863063Z",
     "shell.execute_reply.started": "2024-08-07T11:40:48.479504Z"
    }
   },
   "outputs": [],
   "source": [
    "# Hyperparameters\n",
    "vocab_size = sp.get_piece_size()  # Use the tokenizer to get the vocabulary size\n",
    "d_model = 256\n",
    "nhead = 4\n",
    "num_encoder_layers = 4\n",
    "dropout = 0.25\n",
    "\n",
    "model = DecoderOnlyTransformer(vocab_size, d_model, nhead, num_layers=num_encoder_layers, dropout=dropout)\n",
    "model = model.to(device)\n",
    "criterion = nn.CrossEntropyLoss().to(device)\n",
    "optimizer = optim.AdamW(model.parameters(), lr=1e-4, weight_decay=0.01)"
   ]
  },
  {
   "cell_type": "markdown",
   "id": "bf7711c9-6267-4636-9af4-c1a0d85f570c",
   "metadata": {},
   "source": [
    "## Training"
   ]
  },
  {
   "cell_type": "code",
   "execution_count": 18,
   "id": "bd0c9c61-ca0b-4cf9-8f8f-f598aeb046b2",
   "metadata": {
    "execution": {
     "iopub.execute_input": "2024-08-06T22:38:29.859382Z",
     "iopub.status.busy": "2024-08-06T22:38:29.858873Z",
     "iopub.status.idle": "2024-08-07T01:45:44.808152Z",
     "shell.execute_reply": "2024-08-07T01:45:44.807712Z",
     "shell.execute_reply.started": "2024-08-06T22:38:29.859360Z"
    }
   },
   "outputs": [
    {
     "name": "stdout",
     "output_type": "stream",
     "text": [
      "Epoch 1, Train Loss: 1.8720, Val Loss: 0.4792\n",
      "Saved the best model with val loss: 0.4792\n",
      "Epoch 2, Train Loss: 1.6791, Val Loss: 0.4437\n",
      "Saved the best model with val loss: 0.4437\n",
      "Epoch 3, Train Loss: 1.6650, Val Loss: 0.4346\n",
      "Saved the best model with val loss: 0.4346\n",
      "Epoch 4, Train Loss: 1.6549, Val Loss: 0.4238\n",
      "Saved the best model with val loss: 0.4238\n",
      "Epoch 5, Train Loss: 1.6470, Val Loss: 0.4134\n",
      "Saved the best model with val loss: 0.4134\n",
      "Epoch 6, Train Loss: 1.6414, Val Loss: 0.4077\n",
      "Saved the best model with val loss: 0.4077\n",
      "Epoch 7, Train Loss: 1.6354, Val Loss: 0.4007\n",
      "Saved the best model with val loss: 0.4007\n",
      "Epoch 8, Train Loss: 1.6304, Val Loss: 0.3952\n",
      "Saved the best model with val loss: 0.3952\n"
     ]
    }
   ],
   "source": [
    "# Training setup\n",
    "num_epochs = 8\n",
    "batch_size = 64\n",
    "clip_value = 1.0  # gradient clipping\n",
    "\n",
    "train_dataloader = DataLoader(train_dataset, batch_size=batch_size, shuffle=True, collate_fn=collate_fn)\n",
    "val_dataloader = DataLoader(valid_dataset, batch_size=batch_size, collate_fn=collate_fn)\n",
    "\n",
    "# OneCycleLR Scheduler setup\n",
    "total_steps = len(train_dataloader) * num_epochs\n",
    "scheduler = optim.lr_scheduler.OneCycleLR(\n",
    "    optimizer,\n",
    "    max_lr=1e-3,  # Peak learning rate\n",
    "    total_steps=total_steps,\n",
    "    anneal_strategy='linear',\n",
    "    final_div_factor=10,  # Final learning rate will be max_lr/div_factor\n",
    "    pct_start=0.3  # Percentage of the cycle to spend increasing the learning rate\n",
    ")\n",
    "\n",
    "def create_mask(size):\n",
    "    mask = torch.triu(torch.ones(size, size) * float('-inf'), diagonal=1)\n",
    "    return mask\n",
    "\n",
    "def train(model, dataloader, criterion, optimizer, scheduler, sp):\n",
    "    model.train()\n",
    "    total_loss = 0\n",
    "    for batch in dataloader:\n",
    "        batch = batch.to(device)\n",
    "        optimizer.zero_grad()\n",
    "        src = batch[:, :-1]\n",
    "        tgt = batch[:, 1:]\n",
    "        src_mask = create_mask(src.size(1)).to(device)\n",
    "        output = model(src, src_mask)\n",
    "        loss = criterion(output.contiguous().view(-1, sp.get_piece_size()), tgt.contiguous().view(-1))\n",
    "        loss.backward()\n",
    "        nn.utils.clip_grad_norm_(model.parameters(), clip_value)\n",
    "        optimizer.step()\n",
    "        scheduler.step()\n",
    "        total_loss += loss.item()\n",
    "    return total_loss / len(dataloader)\n",
    "\n",
    "def validate(model, dataloader, criterion, sp):\n",
    "    model.eval()\n",
    "    total_loss = 0\n",
    "    with torch.no_grad():\n",
    "        for batch in dataloader:\n",
    "            batch = batch.to(device)\n",
    "            src = batch[:, :-1]\n",
    "            tgt = batch[:, 1:]\n",
    "            src_mask = create_mask(src.size(1)).to(device)\n",
    "            output = model(src, src_mask)\n",
    "            loss = criterion(output.contiguous().view(-1, sp.get_piece_size()), tgt.contiguous().view(-1))\n",
    "            total_loss += loss.item()\n",
    "    return total_loss / len(dataloader)\n",
    "\n",
    "best_val_loss = float('inf')\n",
    "best_model_path = 'best_model_.pth'\n",
    "\n",
    "train_losses = []\n",
    "val_losses = []\n",
    "\n",
    "# Training Loop\n",
    "for epoch in range(num_epochs):\n",
    "    train_loss = train(model, train_dataloader, criterion, optimizer, scheduler, sp)\n",
    "    val_loss = validate(model, val_dataloader, criterion, sp)\n",
    "    train_losses.append(train_loss)\n",
    "    val_losses.append(val_loss)\n",
    "    \n",
    "    print(f'Epoch {epoch+1}, Train Loss: {train_loss:.4f}, Val Loss: {val_loss:.4f}')\n",
    "        \n",
    "    if val_loss < best_val_loss:\n",
    "        best_val_loss = val_loss\n",
    "        torch.save({\n",
    "            'epoch': epoch,\n",
    "            'model_state_dict': model.state_dict(),\n",
    "            'optimizer_state_dict': optimizer.state_dict(),\n",
    "            'loss': val_loss,\n",
    "        }, best_model_path)\n",
    "        print(f'Saved the best model with val loss: {val_loss:.4f}')"
   ]
  },
  {
   "cell_type": "code",
   "execution_count": 19,
   "id": "7a1b3814-9021-4aac-84e8-7e5ecdc7491d",
   "metadata": {
    "execution": {
     "iopub.execute_input": "2024-08-07T01:45:44.809331Z",
     "iopub.status.busy": "2024-08-07T01:45:44.809054Z",
     "iopub.status.idle": "2024-08-07T01:45:45.792394Z",
     "shell.execute_reply": "2024-08-07T01:45:45.791922Z",
     "shell.execute_reply.started": "2024-08-07T01:45:44.809331Z"
    }
   },
   "outputs": [
    {
     "data": {
      "image/png": "[encoded data removed]",
      "text/plain": [
       "<Figure size 1000x500 with 1 Axes>"
      ]
     },
     "metadata": {},
     "output_type": "display_data"
    }
   ],
   "source": [
    "# plot the losses\n",
    "import matplotlib.pyplot as plt\n",
    "\n",
    "plt.figure(figsize=(10, 5))\n",
    "plt.plot(train_losses, label='Train Loss')\n",
    "plt.plot(val_losses, label='Validation Loss')\n",
    "plt.xlabel('Epoch')\n",
    "plt.ylabel('Loss')\n",
    "plt.legend()\n",
    "plt.title('Training and Validation Loss')\n",
    "plt.show()"
   ]
  },
  {
   "cell_type": "code",
   "execution_count": 20,
   "id": "25e45cc3-ec64-41cd-81a3-63ee5b2835c1",
   "metadata": {
    "execution": {
     "iopub.execute_input": "2024-08-07T01:45:45.793390Z",
     "iopub.status.busy": "2024-08-07T01:45:45.793046Z",
     "iopub.status.idle": "2024-08-07T01:45:45.797644Z",
     "shell.execute_reply": "2024-08-07T01:45:45.797091Z",
     "shell.execute_reply.started": "2024-08-07T01:45:45.793375Z"
    }
   },
   "outputs": [
    {
     "name": "stdout",
     "output_type": "stream",
     "text": [
      "The model has 3,672,040 trainable parameters\n",
      "The model has 3,672,040 total parameters\n"
     ]
    }
   ],
   "source": [
    "def count_parameters(model):\n",
    "    trainable_params = sum(p.numel() for p in model.parameters() if p.requires_grad)\n",
    "    total_params = sum(p.numel() for p in model.parameters())\n",
    "    return trainable_params, total_params\n",
    "\n",
    "trainable, total = count_parameters(model)\n",
    "print(f\"The model has {trainable:,} trainable parameters\")\n",
    "print(f\"The model has {total:,} total parameters\")"
   ]
  },
  {
   "cell_type": "code",
   "execution_count": 7,
   "id": "26baf69d",
   "metadata": {},
   "outputs": [
    {
     "name": "stdout",
     "output_type": "stream",
     "text": [
      "The model has 4,952,040 parameters in total (using state_dict)\n"
     ]
    }
   ],
   "source": [
    "# Count the number of parameters using state_dict, to include all parameters (trainable and non-trainable) and buffers\n",
    "state_dict = model.state_dict()\n",
    "total_params_state_dict = sum(v.numel() for v in state_dict.values())\n",
    "print(f\"The model has {total_params_state_dict:,} parameters in total (using state_dict)\")"
   ]
  },
  {
   "cell_type": "markdown",
   "id": "71275114-2b27-48f4-854b-2eb9a8b7b478",
   "metadata": {},
   "source": [
    "## Load and evaluate model"
   ]
  },
  {
   "cell_type": "code",
   "execution_count": 8,
   "id": "b2d410c7-905f-49bb-b2c9-6a0fc7fb1799",
   "metadata": {
    "execution": {
     "iopub.execute_input": "2024-08-07T11:40:50.866349Z",
     "iopub.status.busy": "2024-08-07T11:40:50.865965Z",
     "iopub.status.idle": "2024-08-07T11:40:53.419078Z",
     "shell.execute_reply": "2024-08-07T11:40:53.418541Z",
     "shell.execute_reply.started": "2024-08-07T11:40:50.866310Z"
    }
   },
   "outputs": [
    {
     "name": "stdout",
     "output_type": "stream",
     "text": [
      "Generated molecule: COc1cc2cc(OC)c(OC)cc2cc1C(c1ccccc1)c1ccccc1\n"
     ]
    }
   ],
   "source": [
    "# Load the best model checkpoint\n",
    "checkpoint = torch.load('best_model_mid.pth')\n",
    "model.load_state_dict(checkpoint['model_state_dict'])\n",
    "model = model.to(device)\n",
    "optimizer.load_state_dict(checkpoint['optimizer_state_dict'])\n",
    "\n",
    "def create_mask(size):\n",
    "    mask = torch.triu(torch.ones(size, size) * float('-inf'), diagonal=1)\n",
    "    return mask\n",
    "\n",
    "def generate_molecule(model, start_seq, sp_model, max_length=150, temperature=0.7):\n",
    "    model.eval()\n",
    "    with torch.no_grad():\n",
    "        current_seq = start_seq.to(device).unsqueeze(0)  # Add batch dimension\n",
    "        for _ in range(max_length):\n",
    "            src_mask = create_mask(current_seq.size(1)).to(device)\n",
    "            output = model(current_seq, src_mask)\n",
    "            logits = output[0, -1, :] / temperature  # Select last time step\n",
    "            next_token_idx = torch.multinomial(torch.softmax(logits, dim=-1), 1).item()\n",
    "            \n",
    "            if next_token_idx == sp_model.piece_to_id('<EOS>'):\n",
    "                break\n",
    "\n",
    "            next_token_tensor = torch.tensor([[next_token_idx]], device=device)\n",
    "            current_seq = torch.cat([current_seq, next_token_tensor], dim=1)\n",
    "    \n",
    "    # Decode using the tokenizer\n",
    "    generated_sequence = sp_model.decode_ids(current_seq[0].cpu().tolist())\n",
    "    return generated_sequence.replace('<SOS>', '', 1)\n",
    "\n",
    "# Example: Generate a molecule starting with a carbon atom\n",
    "start_seq = torch.tensor([sp.piece_to_id('<SOS>'), sp.piece_to_id('C')], device=device)  # Start with <SOS> and a carbon atom\n",
    "generated_molecule = generate_molecule(model, start_seq, sp)\n",
    "print(\"Generated molecule:\", generated_molecule)"
   ]
  },
  {
   "cell_type": "code",
   "execution_count": 22,
   "id": "62a11263-7c04-46ad-9cf3-af47b6a76827",
   "metadata": {
    "execution": {
     "iopub.execute_input": "2024-08-07T01:45:46.131063Z",
     "iopub.status.busy": "2024-08-07T01:45:46.130654Z",
     "iopub.status.idle": "2024-08-07T01:47:31.565360Z",
     "shell.execute_reply": "2024-08-07T01:47:31.564767Z",
     "shell.execute_reply.started": "2024-08-07T01:45:46.131040Z"
    }
   },
   "outputs": [
    {
     "name": "stdout",
     "output_type": "stream",
     "text": [
      "Test Loss: 0.3968\n"
     ]
    }
   ],
   "source": [
    "# Evaluate on test set\n",
    "batch_size = 64\n",
    "\n",
    "def evaluate(model, dataloader, criterion):\n",
    "    model.eval()\n",
    "    total_loss = 0\n",
    "    with torch.no_grad():\n",
    "        for batch in dataloader:\n",
    "            batch = batch.to(device)\n",
    "            src = batch[:, :-1]\n",
    "            tgt = batch[:, 1:]\n",
    "            src_mask = create_mask(src.size(1)).to(device)\n",
    "            output = model(src, src_mask)\n",
    "            loss = criterion(output.contiguous().view(-1, sp.get_piece_size()), tgt.contiguous().view(-1))\n",
    "            total_loss += loss.item()\n",
    "    return total_loss / len(dataloader)\n",
    "\n",
    "test_dataloader = DataLoader(test_dataset, batch_size=batch_size, collate_fn=collate_fn)\n",
    "\n",
    "test_loss = evaluate(model, test_dataloader, criterion)\n",
    "print(f'Test Loss: {test_loss:.4f}')"
   ]
  },
  {
   "cell_type": "code",
   "execution_count": 9,
   "id": "3afd55ff-43cb-493a-a2a4-11d7b4b988a9",
   "metadata": {
    "execution": {
     "iopub.execute_input": "2024-08-07T11:40:53.420215Z",
     "iopub.status.busy": "2024-08-07T11:40:53.419984Z",
     "iopub.status.idle": "2024-08-07T11:57:10.829277Z",
     "shell.execute_reply": "2024-08-07T11:57:10.828828Z",
     "shell.execute_reply.started": "2024-08-07T11:40:53.420215Z"
    }
   },
   "outputs": [
    {
     "name": "stdout",
     "output_type": "stream",
     "text": [
      "Generated molecule 1000: C(CC)C(=O)Nc1cc(C(=O)NCc2ccccc2)n(C)n1\n",
      "Generated molecule 2000: C(CO)NC(=O)c1cccc(S(=O)(=O)N2CCCC2)c1\n",
      "Generated molecule 3000: COc1ccc(C(=O)Nc2cccnc2N2CCCC2)cc1OCC\n",
      "Generated molecule 4000: Cn1nnc(C(=O)Nc2ccc(OCC(N)=O)cc2)c1C1CC1\n",
      "Generated molecule 5000: Cn1c(SCC(=O)O)nnc1-c1cccs1\n",
      "Generated molecule 6000: COc1ccc(C(=O)Nc2ccccc2O)cc1Cl\n",
      "Generated molecule 7000: Cn1c(SCC(=O)Nc2cccc(OC)c2)nnc1-c1ccc(C)cc1\n",
      "Generated molecule 8000: C(NC(=O)COCc1ccccc1)c1ccc(F)cc1\n",
      "Generated molecule 9000: C(=O)N1CCn2c(nnc2-c2ccc(C)cc2)C1\n",
      "Generated molecule 10000: C1CCCN(C(=O)CCCNC(=O)c2cccnc2OC)C1\n"
     ]
    }
   ],
   "source": [
    "# Generate a large set of molecules (e.g., 10,000 or 30,000)\n",
    "generated_smiles = []\n",
    "for i in range(10000):\n",
    "    start_seq = torch.tensor([sp.piece_to_id('<SOS>'), sp.piece_to_id('C')], device=device)  # Start with <SOS> and a carbon atom\n",
    "    generated_molecule = generate_molecule(model, start_seq, sp)\n",
    "    generated_molecule = generated_molecule  # Remove start of sequence token\n",
    "    generated_smiles.append(generated_molecule)\n",
    "    \n",
    "    # Print every 1000th molecule\n",
    "    if (i + 1) % 1000 == 0:\n",
    "        print(f\"Generated molecule {i + 1}: {generated_molecule}\")\n",
    "        \n",
    "# Get the training and test set SMILES\n",
    "train_smiles = train_dataset.processed_smiles\n",
    "test_smiles = test_dataset.processed_smiles"
   ]
  },
  {
   "cell_type": "code",
   "execution_count": 10,
   "id": "7719d1c5-539b-40ad-891a-dfec4bc46d6c",
   "metadata": {
    "execution": {
     "iopub.execute_input": "2024-08-07T11:57:10.830718Z",
     "iopub.status.busy": "2024-08-07T11:57:10.830535Z",
     "iopub.status.idle": "2024-08-07T11:58:45.155338Z",
     "shell.execute_reply": "2024-08-07T11:58:45.154714Z",
     "shell.execute_reply.started": "2024-08-07T11:57:10.830704Z"
    }
   },
   "outputs": [
    {
     "name": "stdout",
     "output_type": "stream",
     "text": [
      "Validity: 0.95\n",
      "Uniqueness: 0.95\n",
      "Diversity: 0.87\n"
     ]
    }
   ],
   "source": [
    "from tdc import Evaluator\n",
    "\n",
    "# Validity\n",
    "validity_evaluator = Evaluator(name='Validity')\n",
    "validity_score = validity_evaluator(generated_smiles)\n",
    "print(f\"Validity: {validity_score:.2f}\")\n",
    "\n",
    "# Uniqueness\n",
    "uniqueness_evaluator = Evaluator(name='Uniqueness')\n",
    "uniqueness_score = uniqueness_evaluator(generated_smiles)\n",
    "print(f\"Uniqueness: {uniqueness_score:.2f}\")\n",
    "\n",
    "# Diversity\n",
    "diversity_evaluator = Evaluator(name='Diversity')\n",
    "diversity_score = diversity_evaluator(generated_smiles)\n",
    "print(f\"Diversity: {diversity_score:.2f}\")"
   ]
  },
  {
   "cell_type": "code",
   "execution_count": 11,
   "id": "a0b894a9-8e4f-43f7-8220-45bd5ae7e453",
   "metadata": {
    "execution": {
     "iopub.execute_input": "2024-08-07T11:58:45.156297Z",
     "iopub.status.busy": "2024-08-07T11:58:45.156131Z",
     "iopub.status.idle": "2024-08-07T12:21:31.406727Z",
     "shell.execute_reply": "2024-08-07T12:21:31.405774Z",
     "shell.execute_reply.started": "2024-08-07T11:58:45.156283Z"
    }
   },
   "outputs": [
    {
     "name": "stderr",
     "output_type": "stream",
     "text": [
      "[12:07:46] WARNING: not removing hydrogen atom without neighbors\n",
      "[12:07:46] WARNING: not removing hydrogen atom without neighbors\n",
      "[12:08:00] WARNING: not removing hydrogen atom without neighbors\n",
      "[12:08:00] WARNING: not removing hydrogen atom without neighbors\n",
      "[12:08:09] WARNING: not removing hydrogen atom without neighbors\n",
      "[12:08:09] WARNING: not removing hydrogen atom without neighbors\n",
      "[12:09:13] WARNING: not removing hydrogen atom without neighbors\n",
      "[12:09:13] WARNING: not removing hydrogen atom without neighbors\n",
      "[12:09:13] WARNING: not removing hydrogen atom without neighbors\n",
      "[12:09:13] WARNING: not removing hydrogen atom without neighbors\n",
      "[12:09:13] WARNING: not removing hydrogen atom without neighbors\n",
      "[12:09:13] WARNING: not removing hydrogen atom without neighbors\n",
      "[12:10:17] WARNING: not removing hydrogen atom without neighbors\n",
      "[12:10:17] WARNING: not removing hydrogen atom without neighbors\n"
     ]
    },
    {
     "name": "stdout",
     "output_type": "stream",
     "text": [
      "Novelty: 0.9253\n",
      "KL Divergence: 5.8839\n",
      "Fragment Similarity: 0.0767\n",
      "Scaffold Diversity: 0.6607\n"
     ]
    }
   ],
   "source": [
    "from rdkit.Chem.Scaffolds import MurckoScaffold\n",
    "from scipy.stats import entropy\n",
    "from collections import Counter\n",
    "\n",
    "# Convert SMILES to RDKit molecules\n",
    "def smiles_to_mol(smiles_list):\n",
    "    return [Chem.MolFromSmiles(smiles) for smiles in smiles_list if Chem.MolFromSmiles(smiles)]\n",
    "\n",
    "generated_mols = smiles_to_mol(generated_smiles)\n",
    "train_mols = smiles_to_mol(train_smiles)\n",
    "\n",
    "# Novelty\n",
    "def calculate_novelty(generated_mols, train_mols):\n",
    "    train_smiles_set = set(Chem.MolToSmiles(mol) for mol in train_mols)\n",
    "    novel_count = sum(1 for mol in generated_mols if Chem.MolToSmiles(mol) not in train_smiles_set)\n",
    "    return novel_count / len(generated_mols)\n",
    "\n",
    "novelty = calculate_novelty(generated_mols, train_mols)\n",
    "print(f\"Novelty: {novelty:.4f}\")\n",
    "\n",
    "# KL Divergence (using molecular weight as an example property)\n",
    "def calculate_kl_divergence(generated_mols, train_mols):\n",
    "    def get_mol_weights(mols):\n",
    "        return [Chem.Descriptors.ExactMolWt(mol) for mol in mols]\n",
    "    \n",
    "    gen_weights = get_mol_weights(generated_mols)\n",
    "    train_weights = get_mol_weights(train_mols)\n",
    "    \n",
    "    # Create histograms\n",
    "    hist_gen, _ = np.histogram(gen_weights, bins=50, density=True)\n",
    "    hist_train, _ = np.histogram(train_weights, bins=50, density=True)\n",
    "    \n",
    "    # Add small epsilon to avoid division by zero\n",
    "    hist_gen = hist_gen + 1e-10\n",
    "    hist_train = hist_train + 1e-10\n",
    "    \n",
    "    return entropy(hist_gen, hist_train)\n",
    "\n",
    "kl_divergence = calculate_kl_divergence(generated_mols, train_mols)\n",
    "print(f\"KL Divergence: {kl_divergence:.4f}\")\n",
    "\n",
    "# Fragment Similarity\n",
    "def calculate_fragment_similarity(generated_mols, train_mols):\n",
    "    def get_fragments(mol):\n",
    "        return set(Chem.MolToSmiles(frag) for frag in Chem.GetMolFrags(mol, asMols=True))\n",
    "    \n",
    "    train_fragments = set.union(*[get_fragments(mol) for mol in train_mols])\n",
    "    \n",
    "    similarities = []\n",
    "    for mol in generated_mols:\n",
    "        gen_fragments = get_fragments(mol)\n",
    "        if gen_fragments:\n",
    "            similarity = len(gen_fragments.intersection(train_fragments)) / len(gen_fragments)\n",
    "            similarities.append(similarity)\n",
    "    \n",
    "    return np.mean(similarities)\n",
    "\n",
    "fragment_similarity = calculate_fragment_similarity(generated_mols, train_mols)\n",
    "print(f\"Fragment Similarity: {fragment_similarity:.4f}\")\n",
    "\n",
    "# Scaffold Diversity\n",
    "def calculate_scaffold_diversity(mols):\n",
    "    scaffolds = [Chem.MolToSmiles(MurckoScaffold.GetScaffoldForMol(mol)) for mol in mols]\n",
    "    scaffold_counts = Counter(scaffolds)\n",
    "    return len(scaffold_counts) / len(mols)\n",
    "\n",
    "scaffold_diversity = calculate_scaffold_diversity(generated_mols)\n",
    "print(f\"Scaffold Diversity: {scaffold_diversity:.4f}\")"
   ]
  }
 ],
 "metadata": {
  "kernelspec": {
   "display_name": "Python 3 (ipykernel)",
   "language": "python",
   "name": "python3"
  },
  "language_info": {
   "codemirror_mode": {
    "name": "ipython",
    "version": 3
   },
   "file_extension": ".py",
   "mimetype": "text/x-python",
   "name": "python",
   "nbconvert_exporter": "python",
   "pygments_lexer": "ipython3",
   "version": "3.11.9"
  }
 },
 "nbformat": 4,
 "nbformat_minor": 5
}
