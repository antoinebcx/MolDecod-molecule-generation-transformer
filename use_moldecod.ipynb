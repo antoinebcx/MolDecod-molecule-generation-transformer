{
 "cells": [
  {
   "cell_type": "markdown",
   "metadata": {},
   "source": [
    "# Use MolDecod\n",
    "\n",
    "This notebook is for generating molecules using MolDecod. You need the model checkpoint and the tokenizer in the /models folder."
   ]
  },
  {
   "cell_type": "markdown",
   "metadata": {},
   "source": [
    "## Setup"
   ]
  },
  {
   "cell_type": "code",
   "execution_count": 3,
   "metadata": {},
   "outputs": [],
   "source": [
    "# pip install torch sentencepiece"
   ]
  },
  {
   "cell_type": "code",
   "execution_count": 4,
   "metadata": {},
   "outputs": [],
   "source": [
    "import torch\n",
    "import torch.nn as nn\n",
    "import torch.optim as optim\n",
    "import math\n",
    "import sentencepiece as spm"
   ]
  },
  {
   "cell_type": "code",
   "execution_count": 5,
   "metadata": {},
   "outputs": [
    {
     "name": "stdout",
     "output_type": "stream",
     "text": [
      "Using device: cpu\n"
     ]
    }
   ],
   "source": [
    "# Use GPU if available, CPU if not\n",
    "device = torch.device(\"cuda\" if torch.cuda.is_available() else \"cpu\")\n",
    "print(f\"Using device: {device}\")"
   ]
  },
  {
   "cell_type": "markdown",
   "metadata": {},
   "source": [
    "## Load tokenizer"
   ]
  },
  {
   "cell_type": "code",
   "execution_count": 7,
   "metadata": {},
   "outputs": [
    {
     "data": {
      "text/plain": [
       "True"
      ]
     },
     "execution_count": 7,
     "metadata": {},
     "output_type": "execute_result"
    }
   ],
   "source": [
    "sp = spm.SentencePieceProcessor()\n",
    "sp.load('models/moldecod_tokenizer.model')"
   ]
  },
  {
   "cell_type": "markdown",
   "metadata": {},
   "source": [
    "## Define the model architecture and load MolDecod"
   ]
  },
  {
   "cell_type": "code",
   "execution_count": 8,
   "metadata": {},
   "outputs": [],
   "source": [
    "class RotaryPositionalEncoding(nn.Module):\n",
    "    def __init__(self, d_model, dropout=0.1, max_len=5000):\n",
    "        super(RotaryPositionalEncoding, self).__init__()\n",
    "        self.d_model = d_model\n",
    "        self.dropout = nn.Dropout(p=dropout)\n",
    "        \n",
    "        position = torch.arange(0, max_len).unsqueeze(1)\n",
    "        div_term = torch.exp(torch.arange(0, d_model, 2) * -(math.log(10000.0) / d_model))\n",
    "        self.register_buffer('sin_pos', torch.sin(position * div_term))\n",
    "        self.register_buffer('cos_pos', torch.cos(position * div_term))\n",
    "\n",
    "    def forward(self, x):\n",
    "        seq_len = x.size(1)\n",
    "        x1 = x[..., ::2]\n",
    "        x2 = x[..., 1::2]\n",
    "        x = torch.cat([\n",
    "            x1 * self.cos_pos[:seq_len] - x2 * self.sin_pos[:seq_len],\n",
    "            x1 * self.sin_pos[:seq_len] + x2 * self.cos_pos[:seq_len]\n",
    "        ], dim=-1)\n",
    "        return self.dropout(x)\n",
    "\n",
    "class DecoderOnlyTransformer(nn.Module):\n",
    "    def __init__(self, vocab_size, d_model, nhead, num_layers, dropout=0.1):\n",
    "        super(DecoderOnlyTransformer, self).__init__()\n",
    "        self.d_model = d_model\n",
    "        self.embedding = nn.Embedding(vocab_size, d_model)\n",
    "        self.pos_encoder = RotaryPositionalEncoding(d_model)\n",
    "        encoder_layer = nn.TransformerEncoderLayer(d_model, nhead, dim_feedforward=4*d_model, dropout=dropout, activation='gelu', batch_first=True, norm_first=True)\n",
    "        self.transformer_encoder = nn.TransformerEncoder(encoder_layer, num_layers)\n",
    "        self.fc_out = nn.Linear(d_model, vocab_size)\n",
    "        self.dropout = nn.Dropout(p=dropout)\n",
    "        \n",
    "    def forward(self, src, src_mask=None):\n",
    "        src = self.embedding(src) * math.sqrt(self.d_model)\n",
    "        src = self.pos_encoder(src)\n",
    "        output = self.transformer_encoder(src, mask=src_mask)\n",
    "        output = self.fc_out(output)\n",
    "        return self.dropout(output)"
   ]
  },
  {
   "cell_type": "code",
   "execution_count": 9,
   "metadata": {},
   "outputs": [
    {
     "name": "stderr",
     "output_type": "stream",
     "text": [
      "/opt/homebrew/lib/python3.11/site-packages/torch/nn/modules/transformer.py:306: UserWarning: enable_nested_tensor is True, but self.use_nested_tensor is False because encoder_layer.norm_first was True\n",
      "  warnings.warn(f\"enable_nested_tensor is True, but self.use_nested_tensor is False because {why_not_sparsity_fast_path}\")\n"
     ]
    }
   ],
   "source": [
    "vocab_size = sp.get_piece_size()  # Use the tokenizer to get the vocabulary size\n",
    "d_model = 256\n",
    "nhead = 4\n",
    "num_encoder_layers = 4\n",
    "dropout = 0.25\n",
    "\n",
    "model = DecoderOnlyTransformer(vocab_size, d_model, nhead, num_layers=num_encoder_layers, dropout=dropout)\n",
    "model = model.to(device)\n",
    "criterion = nn.CrossEntropyLoss().to(device)\n",
    "optimizer = optim.AdamW(model.parameters(), lr=1e-4, weight_decay=0.01)"
   ]
  },
  {
   "cell_type": "code",
   "execution_count": 10,
   "metadata": {},
   "outputs": [],
   "source": [
    "# Load the model checkpoint\n",
    "if torch.cuda.is_available():\n",
    "    checkpoint = torch.load('models/moldecod_transformer.pth')\n",
    "else:\n",
    "    checkpoint = torch.load('models/moldecod_transformer.pth', map_location=torch.device('cpu'))\n",
    "\n",
    "model.load_state_dict(checkpoint['model_state_dict'])\n",
    "model = model.to(device)\n",
    "optimizer.load_state_dict(checkpoint['optimizer_state_dict'])"
   ]
  },
  {
   "cell_type": "markdown",
   "metadata": {},
   "source": [
    "## Use the model to generate molecules"
   ]
  },
  {
   "cell_type": "code",
   "execution_count": 11,
   "metadata": {},
   "outputs": [],
   "source": [
    "def create_mask(size):\n",
    "    mask = torch.triu(torch.ones(size, size) * float('-inf'), diagonal=1)\n",
    "    return mask\n",
    "\n",
    "def generate_molecule(model, start_seq, sp_model, max_length=150, temperature=0.7):\n",
    "    model.eval()\n",
    "    with torch.no_grad():\n",
    "        current_seq = start_seq.to(device).unsqueeze(0)  # Add batch dimension\n",
    "        for _ in range(max_length):\n",
    "            src_mask = create_mask(current_seq.size(1)).to(device)\n",
    "            output = model(current_seq, src_mask)\n",
    "            logits = output[0, -1, :] / temperature  # Select last time step\n",
    "            next_token_idx = torch.multinomial(torch.softmax(logits, dim=-1), 1).item()\n",
    "            \n",
    "            if next_token_idx == sp_model.piece_to_id('<EOS>'):\n",
    "                break\n",
    "\n",
    "            next_token_tensor = torch.tensor([[next_token_idx]], device=device)\n",
    "            current_seq = torch.cat([current_seq, next_token_tensor], dim=1)\n",
    "    \n",
    "    # Decode using the tokenizer\n",
    "    generated_sequence = sp_model.decode_ids(current_seq[0].cpu().tolist())\n",
    "    return generated_sequence.replace('<SOS>', '', 1)"
   ]
  },
  {
   "cell_type": "code",
   "execution_count": 12,
   "metadata": {},
   "outputs": [
    {
     "name": "stdout",
     "output_type": "stream",
     "text": [
      "Generated molecule: C(=O)N1CCCc2ccc(OCC(=O)Nc3ccccc3C)cc21\n"
     ]
    }
   ],
   "source": [
    "# Example: Generate a molecule starting with a carbon atom\n",
    "start_seq = torch.tensor([sp.piece_to_id('<SOS>'), sp.piece_to_id('C')], device=device)  # Start with <SOS> and a carbon atom\n",
    "generated_molecule = generate_molecule(model, start_seq, sp)\n",
    "print(\"Generated molecule:\", generated_molecule)"
   ]
  },
  {
   "cell_type": "markdown",
   "metadata": {},
   "source": [
    "You can also stream the generation"
   ]
  },
  {
   "cell_type": "code",
   "execution_count": 15,
   "metadata": {},
   "outputs": [],
   "source": [
    "from IPython.display import clear_output, display\n",
    "\n",
    "def generate_molecule_streaming(model, start_seq, sp_model, max_length=150, temperature=0.7):\n",
    "    model.eval()\n",
    "    with torch.no_grad():\n",
    "        current_seq = start_seq.to(device).unsqueeze(0)  # Add batch dimension\n",
    "        generated_tokens = []\n",
    "        \n",
    "        for _ in range(max_length):\n",
    "            src_mask = create_mask(current_seq.size(1)).to(device)\n",
    "            output = model(current_seq, src_mask)\n",
    "            logits = output[0, -1, :] / temperature  # Select last time step\n",
    "            next_token_idx = torch.multinomial(torch.softmax(logits, dim=-1), 1).item()\n",
    "            \n",
    "            if next_token_idx == sp_model.piece_to_id('<EOS>'):\n",
    "                break\n",
    "\n",
    "            # Add the token to the list\n",
    "            generated_tokens.append(next_token_idx)\n",
    "\n",
    "            # Display the current sequence\n",
    "            current_seq_display = sp_model.decode_ids(generated_tokens)\n",
    "            clear_output(wait=True)\n",
    "            display(f\"Generated molecule: {current_seq_display}\")\n",
    "\n",
    "            next_token_tensor = torch.tensor([[next_token_idx]], device=device)\n",
    "            current_seq = torch.cat([current_seq, next_token_tensor], dim=1)\n",
    "    \n",
    "    # Decode using the tokenizer\n",
    "    generated_sequence = sp_model.decode_ids(current_seq[0].cpu().tolist())\n",
    "    return generated_sequence.replace('<SOS>', '', 1)"
   ]
  },
  {
   "cell_type": "code",
   "execution_count": 16,
   "metadata": {},
   "outputs": [
    {
     "data": {
      "text/plain": [
       "'Generated molecule: (C)C(CC)NC(=O)Nc1ccc2c(c1)COC2'"
      ]
     },
     "metadata": {},
     "output_type": "display_data"
    }
   ],
   "source": [
    "# Example: Generate a molecule starting with a carbon atom\n",
    "start_seq = torch.tensor([sp.piece_to_id('<SOS>'), sp.piece_to_id('C')], device=device)  # Start with <SOS> and a carbon atom\n",
    "generated_molecule = generate_molecule_streaming(model, start_seq, sp)"
   ]
  }
 ],
 "metadata": {
  "kernelspec": {
   "display_name": "Python 3",
   "language": "python",
   "name": "python3"
  },
  "language_info": {
   "codemirror_mode": {
    "name": "ipython",
    "version": 3
   },
   "file_extension": ".py",
   "mimetype": "text/x-python",
   "name": "python",
   "nbconvert_exporter": "python",
   "pygments_lexer": "ipython3",
   "version": "3.11.9"
  }
 },
 "nbformat": 4,
 "nbformat_minor": 2
}
